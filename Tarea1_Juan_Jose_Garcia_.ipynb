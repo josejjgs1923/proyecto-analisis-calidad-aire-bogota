{
 "cells": [
  {
   "cell_type": "markdown",
   "metadata": {
    "editable": true,
    "id": "xQq4Vi32-hdJ",
    "slideshow": {
     "slide_type": ""
    },
    "tags": []
   },
   "source": [
    "\n",
    "<img src=\"https://www.unad.edu.co/images/footer/logo-unad-acreditacion-min.png\" width=\"780\" height=\"140\" align=\"right\"/>"
   ]
  },
  {
   "cell_type": "markdown",
   "metadata": {
    "id": "Fn5lIj0dj7Ju"
   },
   "source": [
    "<p align=\"center\">Curso: Metodos Estadisticos</p>\n",
    "\n",
    "<p align=\"center\"> Código Curso: 203008067 </p>\n",
    "\n",
    "<p align=\"center\"> Grupo: 7 </p>\n",
    "\n",
    " <p align=\"center\">  Tarea 1: Análisis exploratorio e inferencial </p>\n",
    "\n",
    " <p align=\"center\">  Presentado por: Juan José García Sánchez </p>\n",
    "\n",
    "<p align=\"center\"> Código: 203008077</p>\n",
    "\n",
    " <p align=\"center\"> Tutor(a): Mireya Garcia Garcia </p>\n",
    "\n",
    " <p align=\"center\"> 06/10/2024 </p>\n",
    "\n",
    " <p align=\"center\"> UNIVERSIDAD NACIONAL ABIERTA Y A DISTANCIA - UNAD </p>\n",
    "\n"
   ]
  },
  {
   "cell_type": "markdown",
   "metadata": {},
   "source": [
    "# Objetivo General"
   ]
  },
  {
   "cell_type": "markdown",
   "metadata": {},
   "source": [
    "# Objetivos Especificos"
   ]
  },
  {
   "cell_type": "markdown",
   "metadata": {},
   "source": [
    "# Importar librerias"
   ]
  },
  {
   "cell_type": "code",
   "execution_count": 245,
   "metadata": {
    "colab": {
     "base_uri": "https://localhost:8080/"
    },
    "id": "e55mgKkuW1y6",
    "outputId": "33c3965e-5804-41e7-8669-b676570e7ce3"
   },
   "outputs": [],
   "source": [
    "from enum import Enum\n",
    "import pandas as pd\n",
    "import numpy as np\n",
    "import matplotlib.pyplot as plt\n",
    "import seaborn as sns\n",
    "from scipy.stats import pearsonr, chisquare, f_oneway"
   ]
  },
  {
   "cell_type": "code",
   "execution_count": 3,
   "metadata": {},
   "outputs": [],
   "source": [
    "#las funciones definidas aqui se usaran mas adelantes en el ejercicio, son para calcular metricas y graficar\n",
    "\n",
    "def mostrar_metricas(y_real, y_predicho, decimales = 4):\n",
    "    \n",
    "    mse = metrics.mean_squared_error(y_real, y_predicho)\n",
    "    rmse = np.sqrt(mse)\n",
    "    r2 = metrics.r2_score(y_real, y_predicho)\n",
    "    mae =  metrics.mean_absolute_error(y_real, y_predicho)\n",
    "    print(\n",
    "    f\"R2  : {r2:.{decimales}f}\",\n",
    "    f\"MSE : {mse:.{decimales}f}\",\n",
    "    f\"RMSE: {rmse:.{decimales}f}\",\n",
    "    f\"MAE : {mae:.{decimales}f}\",\n",
    "    sep = \"\\n\",\n",
    "    )\n",
    "\n",
    "\n",
    "def matriz_confusion(y_real, y_predicho):\n",
    "    matriz = metrics.confusion_matrix(y_real, y_predicho)\n",
    "    heatmap(matriz, \"Matriz Confusion\", \"d\")\n",
    "    ax = plt.gca()\n",
    "    ax.set_xlabel(\"Valor Predicho\")\n",
    "    ax.set_ylabel(\"Valor Real\")\n",
    "\n",
    "\n",
    "def heatmap(matriz, titulo, formato=\".2f\", tamaño = (4, 4), mapa=\"Reds\"):\n",
    "    plt.figure(figsize=tamaño)\n",
    "    sns.heatmap(matriz, annot=True, cmap=mapa, fmt=formato)\n",
    "    plt.title(titulo)\n"
   ]
  },
  {
   "cell_type": "markdown",
   "metadata": {},
   "source": [
    "# Limpieza de datos"
   ]
  },
  {
   "cell_type": "markdown",
   "metadata": {},
   "source": [
    "Cargar datos a un dataframe, y eliminar los posibles datos nulos"
   ]
  },
  {
   "cell_type": "code",
   "execution_count": 4,
   "metadata": {
    "colab": {
     "base_uri": "https://localhost:8080/"
    },
    "id": "nYJMTGE8J3dV",
    "outputId": "718e85c7-23b6-4eb0-e3f2-2e3227d1572d"
   },
   "outputs": [],
   "source": [
    "# Carga los datos en un dataframe de Pandas\n",
    "\n",
    "#limpiado de datos, el archivo csv debe estar en el mismo directorio\n",
    "df_crudo = pd.read_csv('Anexo 1- Base de Datos dynamic_pricing.csv')\n",
    "\n",
    "df_crudo.drop_duplicates()\n",
    "\n",
    "#limpieza hecha para los tres modelos: modelo lineal, logistico, y knn. se elimina la columna \"wip\"\n",
    "df_modelos = df_crudo.dropna(axis=1)"
   ]
  },
  {
   "cell_type": "markdown",
   "metadata": {},
   "source": [
    "# 1. Analisis Unidimensional"
   ]
  },
  {
   "cell_type": "markdown",
   "metadata": {},
   "source": [
    "vista previa del conjunto de datos que se va a analizar"
   ]
  },
  {
   "cell_type": "code",
   "execution_count": 284,
   "metadata": {
    "scrolled": true
   },
   "outputs": [
    {
     "data": {
      "text/html": [
       "<div>\n",
       "<style scoped>\n",
       "    .dataframe tbody tr th:only-of-type {\n",
       "        vertical-align: middle;\n",
       "    }\n",
       "\n",
       "    .dataframe tbody tr th {\n",
       "        vertical-align: top;\n",
       "    }\n",
       "\n",
       "    .dataframe thead th {\n",
       "        text-align: right;\n",
       "    }\n",
       "</style>\n",
       "<table border=\"1\" class=\"dataframe\">\n",
       "  <thead>\n",
       "    <tr style=\"text-align: right;\">\n",
       "      <th></th>\n",
       "      <th>Number_of_Riders</th>\n",
       "      <th>Number_of_Drivers</th>\n",
       "      <th>Location_Category</th>\n",
       "      <th>Customer_Loyalty_Status</th>\n",
       "      <th>Number_of_Past_Rides</th>\n",
       "      <th>Average_Ratings</th>\n",
       "      <th>Time_of_Booking</th>\n",
       "      <th>Vehicle_Type</th>\n",
       "      <th>Expected_Ride_Duration</th>\n",
       "      <th>Historical_Cost_of_Ride</th>\n",
       "    </tr>\n",
       "  </thead>\n",
       "  <tbody>\n",
       "    <tr>\n",
       "      <th>0</th>\n",
       "      <td>90</td>\n",
       "      <td>45</td>\n",
       "      <td>Urban</td>\n",
       "      <td>Silver</td>\n",
       "      <td>13</td>\n",
       "      <td>4.47</td>\n",
       "      <td>Night</td>\n",
       "      <td>Premium</td>\n",
       "      <td>90</td>\n",
       "      <td>284.257273</td>\n",
       "    </tr>\n",
       "    <tr>\n",
       "      <th>1</th>\n",
       "      <td>58</td>\n",
       "      <td>39</td>\n",
       "      <td>Suburban</td>\n",
       "      <td>Silver</td>\n",
       "      <td>72</td>\n",
       "      <td>4.06</td>\n",
       "      <td>Evening</td>\n",
       "      <td>Economy</td>\n",
       "      <td>43</td>\n",
       "      <td>173.874753</td>\n",
       "    </tr>\n",
       "    <tr>\n",
       "      <th>2</th>\n",
       "      <td>42</td>\n",
       "      <td>31</td>\n",
       "      <td>Rural</td>\n",
       "      <td>Silver</td>\n",
       "      <td>0</td>\n",
       "      <td>3.99</td>\n",
       "      <td>Afternoon</td>\n",
       "      <td>Premium</td>\n",
       "      <td>76</td>\n",
       "      <td>329.795469</td>\n",
       "    </tr>\n",
       "    <tr>\n",
       "      <th>3</th>\n",
       "      <td>89</td>\n",
       "      <td>28</td>\n",
       "      <td>Rural</td>\n",
       "      <td>Regular</td>\n",
       "      <td>67</td>\n",
       "      <td>4.31</td>\n",
       "      <td>Afternoon</td>\n",
       "      <td>Premium</td>\n",
       "      <td>134</td>\n",
       "      <td>470.201232</td>\n",
       "    </tr>\n",
       "    <tr>\n",
       "      <th>4</th>\n",
       "      <td>78</td>\n",
       "      <td>22</td>\n",
       "      <td>Rural</td>\n",
       "      <td>Regular</td>\n",
       "      <td>74</td>\n",
       "      <td>3.77</td>\n",
       "      <td>Afternoon</td>\n",
       "      <td>Economy</td>\n",
       "      <td>149</td>\n",
       "      <td>579.681422</td>\n",
       "    </tr>\n",
       "    <tr>\n",
       "      <th>5</th>\n",
       "      <td>59</td>\n",
       "      <td>35</td>\n",
       "      <td>Urban</td>\n",
       "      <td>Silver</td>\n",
       "      <td>83</td>\n",
       "      <td>3.51</td>\n",
       "      <td>Night</td>\n",
       "      <td>Economy</td>\n",
       "      <td>128</td>\n",
       "      <td>339.955361</td>\n",
       "    </tr>\n",
       "    <tr>\n",
       "      <th>6</th>\n",
       "      <td>93</td>\n",
       "      <td>43</td>\n",
       "      <td>Suburban</td>\n",
       "      <td>Regular</td>\n",
       "      <td>44</td>\n",
       "      <td>4.41</td>\n",
       "      <td>Afternoon</td>\n",
       "      <td>Premium</td>\n",
       "      <td>16</td>\n",
       "      <td>104.061541</td>\n",
       "    </tr>\n",
       "    <tr>\n",
       "      <th>7</th>\n",
       "      <td>62</td>\n",
       "      <td>39</td>\n",
       "      <td>Rural</td>\n",
       "      <td>Gold</td>\n",
       "      <td>83</td>\n",
       "      <td>3.59</td>\n",
       "      <td>Afternoon</td>\n",
       "      <td>Premium</td>\n",
       "      <td>47</td>\n",
       "      <td>235.811864</td>\n",
       "    </tr>\n",
       "    <tr>\n",
       "      <th>8</th>\n",
       "      <td>79</td>\n",
       "      <td>14</td>\n",
       "      <td>Rural</td>\n",
       "      <td>Silver</td>\n",
       "      <td>71</td>\n",
       "      <td>3.74</td>\n",
       "      <td>Evening</td>\n",
       "      <td>Economy</td>\n",
       "      <td>128</td>\n",
       "      <td>501.412517</td>\n",
       "    </tr>\n",
       "    <tr>\n",
       "      <th>9</th>\n",
       "      <td>42</td>\n",
       "      <td>6</td>\n",
       "      <td>Rural</td>\n",
       "      <td>Silver</td>\n",
       "      <td>21</td>\n",
       "      <td>3.85</td>\n",
       "      <td>Night</td>\n",
       "      <td>Premium</td>\n",
       "      <td>128</td>\n",
       "      <td>398.993365</td>\n",
       "    </tr>\n",
       "    <tr>\n",
       "      <th>10</th>\n",
       "      <td>86</td>\n",
       "      <td>17</td>\n",
       "      <td>Urban</td>\n",
       "      <td>Regular</td>\n",
       "      <td>99</td>\n",
       "      <td>4.69</td>\n",
       "      <td>Morning</td>\n",
       "      <td>Economy</td>\n",
       "      <td>167</td>\n",
       "      <td>669.298626</td>\n",
       "    </tr>\n",
       "    <tr>\n",
       "      <th>11</th>\n",
       "      <td>60</td>\n",
       "      <td>38</td>\n",
       "      <td>Rural</td>\n",
       "      <td>Gold</td>\n",
       "      <td>15</td>\n",
       "      <td>4.14</td>\n",
       "      <td>Evening</td>\n",
       "      <td>Premium</td>\n",
       "      <td>144</td>\n",
       "      <td>414.990105</td>\n",
       "    </tr>\n",
       "    <tr>\n",
       "      <th>12</th>\n",
       "      <td>24</td>\n",
       "      <td>8</td>\n",
       "      <td>Rural</td>\n",
       "      <td>Gold</td>\n",
       "      <td>50</td>\n",
       "      <td>4.12</td>\n",
       "      <td>Morning</td>\n",
       "      <td>Economy</td>\n",
       "      <td>164</td>\n",
       "      <td>490.410722</td>\n",
       "    </tr>\n",
       "    <tr>\n",
       "      <th>13</th>\n",
       "      <td>36</td>\n",
       "      <td>24</td>\n",
       "      <td>Suburban</td>\n",
       "      <td>Silver</td>\n",
       "      <td>88</td>\n",
       "      <td>4.22</td>\n",
       "      <td>Night</td>\n",
       "      <td>Premium</td>\n",
       "      <td>83</td>\n",
       "      <td>296.242876</td>\n",
       "    </tr>\n",
       "    <tr>\n",
       "      <th>14</th>\n",
       "      <td>63</td>\n",
       "      <td>13</td>\n",
       "      <td>Rural</td>\n",
       "      <td>Regular</td>\n",
       "      <td>74</td>\n",
       "      <td>4.95</td>\n",
       "      <td>Afternoon</td>\n",
       "      <td>Premium</td>\n",
       "      <td>102</td>\n",
       "      <td>327.088865</td>\n",
       "    </tr>\n",
       "    <tr>\n",
       "      <th>15</th>\n",
       "      <td>39</td>\n",
       "      <td>12</td>\n",
       "      <td>Urban</td>\n",
       "      <td>Silver</td>\n",
       "      <td>30</td>\n",
       "      <td>4.51</td>\n",
       "      <td>Afternoon</td>\n",
       "      <td>Premium</td>\n",
       "      <td>140</td>\n",
       "      <td>445.136868</td>\n",
       "    </tr>\n",
       "    <tr>\n",
       "      <th>16</th>\n",
       "      <td>38</td>\n",
       "      <td>28</td>\n",
       "      <td>Rural</td>\n",
       "      <td>Silver</td>\n",
       "      <td>35</td>\n",
       "      <td>3.93</td>\n",
       "      <td>Afternoon</td>\n",
       "      <td>Premium</td>\n",
       "      <td>54</td>\n",
       "      <td>244.536172</td>\n",
       "    </tr>\n",
       "    <tr>\n",
       "      <th>17</th>\n",
       "      <td>46</td>\n",
       "      <td>14</td>\n",
       "      <td>Suburban</td>\n",
       "      <td>Silver</td>\n",
       "      <td>21</td>\n",
       "      <td>4.71</td>\n",
       "      <td>Afternoon</td>\n",
       "      <td>Economy</td>\n",
       "      <td>15</td>\n",
       "      <td>47.314309</td>\n",
       "    </tr>\n",
       "    <tr>\n",
       "      <th>18</th>\n",
       "      <td>33</td>\n",
       "      <td>7</td>\n",
       "      <td>Suburban</td>\n",
       "      <td>Gold</td>\n",
       "      <td>49</td>\n",
       "      <td>4.31</td>\n",
       "      <td>Evening</td>\n",
       "      <td>Premium</td>\n",
       "      <td>22</td>\n",
       "      <td>129.808263</td>\n",
       "    </tr>\n",
       "    <tr>\n",
       "      <th>19</th>\n",
       "      <td>31</td>\n",
       "      <td>7</td>\n",
       "      <td>Suburban</td>\n",
       "      <td>Silver</td>\n",
       "      <td>24</td>\n",
       "      <td>4.82</td>\n",
       "      <td>Evening</td>\n",
       "      <td>Premium</td>\n",
       "      <td>87</td>\n",
       "      <td>382.948110</td>\n",
       "    </tr>\n",
       "  </tbody>\n",
       "</table>\n",
       "</div>"
      ],
      "text/plain": [
       "    Number_of_Riders  Number_of_Drivers Location_Category  \\\n",
       "0                 90                 45             Urban   \n",
       "1                 58                 39          Suburban   \n",
       "2                 42                 31             Rural   \n",
       "3                 89                 28             Rural   \n",
       "4                 78                 22             Rural   \n",
       "5                 59                 35             Urban   \n",
       "6                 93                 43          Suburban   \n",
       "7                 62                 39             Rural   \n",
       "8                 79                 14             Rural   \n",
       "9                 42                  6             Rural   \n",
       "10                86                 17             Urban   \n",
       "11                60                 38             Rural   \n",
       "12                24                  8             Rural   \n",
       "13                36                 24          Suburban   \n",
       "14                63                 13             Rural   \n",
       "15                39                 12             Urban   \n",
       "16                38                 28             Rural   \n",
       "17                46                 14          Suburban   \n",
       "18                33                  7          Suburban   \n",
       "19                31                  7          Suburban   \n",
       "\n",
       "   Customer_Loyalty_Status  Number_of_Past_Rides  Average_Ratings  \\\n",
       "0                   Silver                    13             4.47   \n",
       "1                   Silver                    72             4.06   \n",
       "2                   Silver                     0             3.99   \n",
       "3                  Regular                    67             4.31   \n",
       "4                  Regular                    74             3.77   \n",
       "5                   Silver                    83             3.51   \n",
       "6                  Regular                    44             4.41   \n",
       "7                     Gold                    83             3.59   \n",
       "8                   Silver                    71             3.74   \n",
       "9                   Silver                    21             3.85   \n",
       "10                 Regular                    99             4.69   \n",
       "11                    Gold                    15             4.14   \n",
       "12                    Gold                    50             4.12   \n",
       "13                  Silver                    88             4.22   \n",
       "14                 Regular                    74             4.95   \n",
       "15                  Silver                    30             4.51   \n",
       "16                  Silver                    35             3.93   \n",
       "17                  Silver                    21             4.71   \n",
       "18                    Gold                    49             4.31   \n",
       "19                  Silver                    24             4.82   \n",
       "\n",
       "   Time_of_Booking Vehicle_Type  Expected_Ride_Duration  \\\n",
       "0            Night      Premium                      90   \n",
       "1          Evening      Economy                      43   \n",
       "2        Afternoon      Premium                      76   \n",
       "3        Afternoon      Premium                     134   \n",
       "4        Afternoon      Economy                     149   \n",
       "5            Night      Economy                     128   \n",
       "6        Afternoon      Premium                      16   \n",
       "7        Afternoon      Premium                      47   \n",
       "8          Evening      Economy                     128   \n",
       "9            Night      Premium                     128   \n",
       "10         Morning      Economy                     167   \n",
       "11         Evening      Premium                     144   \n",
       "12         Morning      Economy                     164   \n",
       "13           Night      Premium                      83   \n",
       "14       Afternoon      Premium                     102   \n",
       "15       Afternoon      Premium                     140   \n",
       "16       Afternoon      Premium                      54   \n",
       "17       Afternoon      Economy                      15   \n",
       "18         Evening      Premium                      22   \n",
       "19         Evening      Premium                      87   \n",
       "\n",
       "    Historical_Cost_of_Ride  \n",
       "0                284.257273  \n",
       "1                173.874753  \n",
       "2                329.795469  \n",
       "3                470.201232  \n",
       "4                579.681422  \n",
       "5                339.955361  \n",
       "6                104.061541  \n",
       "7                235.811864  \n",
       "8                501.412517  \n",
       "9                398.993365  \n",
       "10               669.298626  \n",
       "11               414.990105  \n",
       "12               490.410722  \n",
       "13               296.242876  \n",
       "14               327.088865  \n",
       "15               445.136868  \n",
       "16               244.536172  \n",
       "17                47.314309  \n",
       "18               129.808263  \n",
       "19               382.948110  "
      ]
     },
     "execution_count": 284,
     "metadata": {},
     "output_type": "execute_result"
    }
   ],
   "source": [
    "df_modelos.head(20)"
   ]
  },
  {
   "cell_type": "code",
   "execution_count": 284,
   "metadata": {
    "scrolled": true
   },
   "outputs": [
    {
     "data": {
      "text/html": [
       "<div>\n",
       "<style scoped>\n",
       "    .dataframe tbody tr th:only-of-type {\n",
       "        vertical-align: middle;\n",
       "    }\n",
       "\n",
       "    .dataframe tbody tr th {\n",
       "        vertical-align: top;\n",
       "    }\n",
       "\n",
       "    .dataframe thead th {\n",
       "        text-align: right;\n",
       "    }\n",
       "</style>\n",
       "<table border=\"1\" class=\"dataframe\">\n",
       "  <thead>\n",
       "    <tr style=\"text-align: right;\">\n",
       "      <th></th>\n",
       "      <th>Number_of_Riders</th>\n",
       "      <th>Number_of_Drivers</th>\n",
       "      <th>Location_Category</th>\n",
       "      <th>Customer_Loyalty_Status</th>\n",
       "      <th>Number_of_Past_Rides</th>\n",
       "      <th>Average_Ratings</th>\n",
       "      <th>Time_of_Booking</th>\n",
       "      <th>Vehicle_Type</th>\n",
       "      <th>Expected_Ride_Duration</th>\n",
       "      <th>Historical_Cost_of_Ride</th>\n",
       "    </tr>\n",
       "  </thead>\n",
       "  <tbody>\n",
       "    <tr>\n",
       "      <th>0</th>\n",
       "      <td>90</td>\n",
       "      <td>45</td>\n",
       "      <td>Urban</td>\n",
       "      <td>Silver</td>\n",
       "      <td>13</td>\n",
       "      <td>4.47</td>\n",
       "      <td>Night</td>\n",
       "      <td>Premium</td>\n",
       "      <td>90</td>\n",
       "      <td>284.257273</td>\n",
       "    </tr>\n",
       "    <tr>\n",
       "      <th>1</th>\n",
       "      <td>58</td>\n",
       "      <td>39</td>\n",
       "      <td>Suburban</td>\n",
       "      <td>Silver</td>\n",
       "      <td>72</td>\n",
       "      <td>4.06</td>\n",
       "      <td>Evening</td>\n",
       "      <td>Economy</td>\n",
       "      <td>43</td>\n",
       "      <td>173.874753</td>\n",
       "    </tr>\n",
       "    <tr>\n",
       "      <th>2</th>\n",
       "      <td>42</td>\n",
       "      <td>31</td>\n",
       "      <td>Rural</td>\n",
       "      <td>Silver</td>\n",
       "      <td>0</td>\n",
       "      <td>3.99</td>\n",
       "      <td>Afternoon</td>\n",
       "      <td>Premium</td>\n",
       "      <td>76</td>\n",
       "      <td>329.795469</td>\n",
       "    </tr>\n",
       "    <tr>\n",
       "      <th>3</th>\n",
       "      <td>89</td>\n",
       "      <td>28</td>\n",
       "      <td>Rural</td>\n",
       "      <td>Regular</td>\n",
       "      <td>67</td>\n",
       "      <td>4.31</td>\n",
       "      <td>Afternoon</td>\n",
       "      <td>Premium</td>\n",
       "      <td>134</td>\n",
       "      <td>470.201232</td>\n",
       "    </tr>\n",
       "    <tr>\n",
       "      <th>4</th>\n",
       "      <td>78</td>\n",
       "      <td>22</td>\n",
       "      <td>Rural</td>\n",
       "      <td>Regular</td>\n",
       "      <td>74</td>\n",
       "      <td>3.77</td>\n",
       "      <td>Afternoon</td>\n",
       "      <td>Economy</td>\n",
       "      <td>149</td>\n",
       "      <td>579.681422</td>\n",
       "    </tr>\n",
       "    <tr>\n",
       "      <th>5</th>\n",
       "      <td>59</td>\n",
       "      <td>35</td>\n",
       "      <td>Urban</td>\n",
       "      <td>Silver</td>\n",
       "      <td>83</td>\n",
       "      <td>3.51</td>\n",
       "      <td>Night</td>\n",
       "      <td>Economy</td>\n",
       "      <td>128</td>\n",
       "      <td>339.955361</td>\n",
       "    </tr>\n",
       "    <tr>\n",
       "      <th>6</th>\n",
       "      <td>93</td>\n",
       "      <td>43</td>\n",
       "      <td>Suburban</td>\n",
       "      <td>Regular</td>\n",
       "      <td>44</td>\n",
       "      <td>4.41</td>\n",
       "      <td>Afternoon</td>\n",
       "      <td>Premium</td>\n",
       "      <td>16</td>\n",
       "      <td>104.061541</td>\n",
       "    </tr>\n",
       "    <tr>\n",
       "      <th>7</th>\n",
       "      <td>62</td>\n",
       "      <td>39</td>\n",
       "      <td>Rural</td>\n",
       "      <td>Gold</td>\n",
       "      <td>83</td>\n",
       "      <td>3.59</td>\n",
       "      <td>Afternoon</td>\n",
       "      <td>Premium</td>\n",
       "      <td>47</td>\n",
       "      <td>235.811864</td>\n",
       "    </tr>\n",
       "    <tr>\n",
       "      <th>8</th>\n",
       "      <td>79</td>\n",
       "      <td>14</td>\n",
       "      <td>Rural</td>\n",
       "      <td>Silver</td>\n",
       "      <td>71</td>\n",
       "      <td>3.74</td>\n",
       "      <td>Evening</td>\n",
       "      <td>Economy</td>\n",
       "      <td>128</td>\n",
       "      <td>501.412517</td>\n",
       "    </tr>\n",
       "    <tr>\n",
       "      <th>9</th>\n",
       "      <td>42</td>\n",
       "      <td>6</td>\n",
       "      <td>Rural</td>\n",
       "      <td>Silver</td>\n",
       "      <td>21</td>\n",
       "      <td>3.85</td>\n",
       "      <td>Night</td>\n",
       "      <td>Premium</td>\n",
       "      <td>128</td>\n",
       "      <td>398.993365</td>\n",
       "    </tr>\n",
       "    <tr>\n",
       "      <th>10</th>\n",
       "      <td>86</td>\n",
       "      <td>17</td>\n",
       "      <td>Urban</td>\n",
       "      <td>Regular</td>\n",
       "      <td>99</td>\n",
       "      <td>4.69</td>\n",
       "      <td>Morning</td>\n",
       "      <td>Economy</td>\n",
       "      <td>167</td>\n",
       "      <td>669.298626</td>\n",
       "    </tr>\n",
       "    <tr>\n",
       "      <th>11</th>\n",
       "      <td>60</td>\n",
       "      <td>38</td>\n",
       "      <td>Rural</td>\n",
       "      <td>Gold</td>\n",
       "      <td>15</td>\n",
       "      <td>4.14</td>\n",
       "      <td>Evening</td>\n",
       "      <td>Premium</td>\n",
       "      <td>144</td>\n",
       "      <td>414.990105</td>\n",
       "    </tr>\n",
       "    <tr>\n",
       "      <th>12</th>\n",
       "      <td>24</td>\n",
       "      <td>8</td>\n",
       "      <td>Rural</td>\n",
       "      <td>Gold</td>\n",
       "      <td>50</td>\n",
       "      <td>4.12</td>\n",
       "      <td>Morning</td>\n",
       "      <td>Economy</td>\n",
       "      <td>164</td>\n",
       "      <td>490.410722</td>\n",
       "    </tr>\n",
       "    <tr>\n",
       "      <th>13</th>\n",
       "      <td>36</td>\n",
       "      <td>24</td>\n",
       "      <td>Suburban</td>\n",
       "      <td>Silver</td>\n",
       "      <td>88</td>\n",
       "      <td>4.22</td>\n",
       "      <td>Night</td>\n",
       "      <td>Premium</td>\n",
       "      <td>83</td>\n",
       "      <td>296.242876</td>\n",
       "    </tr>\n",
       "    <tr>\n",
       "      <th>14</th>\n",
       "      <td>63</td>\n",
       "      <td>13</td>\n",
       "      <td>Rural</td>\n",
       "      <td>Regular</td>\n",
       "      <td>74</td>\n",
       "      <td>4.95</td>\n",
       "      <td>Afternoon</td>\n",
       "      <td>Premium</td>\n",
       "      <td>102</td>\n",
       "      <td>327.088865</td>\n",
       "    </tr>\n",
       "    <tr>\n",
       "      <th>15</th>\n",
       "      <td>39</td>\n",
       "      <td>12</td>\n",
       "      <td>Urban</td>\n",
       "      <td>Silver</td>\n",
       "      <td>30</td>\n",
       "      <td>4.51</td>\n",
       "      <td>Afternoon</td>\n",
       "      <td>Premium</td>\n",
       "      <td>140</td>\n",
       "      <td>445.136868</td>\n",
       "    </tr>\n",
       "    <tr>\n",
       "      <th>16</th>\n",
       "      <td>38</td>\n",
       "      <td>28</td>\n",
       "      <td>Rural</td>\n",
       "      <td>Silver</td>\n",
       "      <td>35</td>\n",
       "      <td>3.93</td>\n",
       "      <td>Afternoon</td>\n",
       "      <td>Premium</td>\n",
       "      <td>54</td>\n",
       "      <td>244.536172</td>\n",
       "    </tr>\n",
       "    <tr>\n",
       "      <th>17</th>\n",
       "      <td>46</td>\n",
       "      <td>14</td>\n",
       "      <td>Suburban</td>\n",
       "      <td>Silver</td>\n",
       "      <td>21</td>\n",
       "      <td>4.71</td>\n",
       "      <td>Afternoon</td>\n",
       "      <td>Economy</td>\n",
       "      <td>15</td>\n",
       "      <td>47.314309</td>\n",
       "    </tr>\n",
       "    <tr>\n",
       "      <th>18</th>\n",
       "      <td>33</td>\n",
       "      <td>7</td>\n",
       "      <td>Suburban</td>\n",
       "      <td>Gold</td>\n",
       "      <td>49</td>\n",
       "      <td>4.31</td>\n",
       "      <td>Evening</td>\n",
       "      <td>Premium</td>\n",
       "      <td>22</td>\n",
       "      <td>129.808263</td>\n",
       "    </tr>\n",
       "    <tr>\n",
       "      <th>19</th>\n",
       "      <td>31</td>\n",
       "      <td>7</td>\n",
       "      <td>Suburban</td>\n",
       "      <td>Silver</td>\n",
       "      <td>24</td>\n",
       "      <td>4.82</td>\n",
       "      <td>Evening</td>\n",
       "      <td>Premium</td>\n",
       "      <td>87</td>\n",
       "      <td>382.948110</td>\n",
       "    </tr>\n",
       "  </tbody>\n",
       "</table>\n",
       "</div>"
      ],
      "text/plain": [
       "    Number_of_Riders  Number_of_Drivers Location_Category  \\\n",
       "0                 90                 45             Urban   \n",
       "1                 58                 39          Suburban   \n",
       "2                 42                 31             Rural   \n",
       "3                 89                 28             Rural   \n",
       "4                 78                 22             Rural   \n",
       "5                 59                 35             Urban   \n",
       "6                 93                 43          Suburban   \n",
       "7                 62                 39             Rural   \n",
       "8                 79                 14             Rural   \n",
       "9                 42                  6             Rural   \n",
       "10                86                 17             Urban   \n",
       "11                60                 38             Rural   \n",
       "12                24                  8             Rural   \n",
       "13                36                 24          Suburban   \n",
       "14                63                 13             Rural   \n",
       "15                39                 12             Urban   \n",
       "16                38                 28             Rural   \n",
       "17                46                 14          Suburban   \n",
       "18                33                  7          Suburban   \n",
       "19                31                  7          Suburban   \n",
       "\n",
       "   Customer_Loyalty_Status  Number_of_Past_Rides  Average_Ratings  \\\n",
       "0                   Silver                    13             4.47   \n",
       "1                   Silver                    72             4.06   \n",
       "2                   Silver                     0             3.99   \n",
       "3                  Regular                    67             4.31   \n",
       "4                  Regular                    74             3.77   \n",
       "5                   Silver                    83             3.51   \n",
       "6                  Regular                    44             4.41   \n",
       "7                     Gold                    83             3.59   \n",
       "8                   Silver                    71             3.74   \n",
       "9                   Silver                    21             3.85   \n",
       "10                 Regular                    99             4.69   \n",
       "11                    Gold                    15             4.14   \n",
       "12                    Gold                    50             4.12   \n",
       "13                  Silver                    88             4.22   \n",
       "14                 Regular                    74             4.95   \n",
       "15                  Silver                    30             4.51   \n",
       "16                  Silver                    35             3.93   \n",
       "17                  Silver                    21             4.71   \n",
       "18                    Gold                    49             4.31   \n",
       "19                  Silver                    24             4.82   \n",
       "\n",
       "   Time_of_Booking Vehicle_Type  Expected_Ride_Duration  \\\n",
       "0            Night      Premium                      90   \n",
       "1          Evening      Economy                      43   \n",
       "2        Afternoon      Premium                      76   \n",
       "3        Afternoon      Premium                     134   \n",
       "4        Afternoon      Economy                     149   \n",
       "5            Night      Economy                     128   \n",
       "6        Afternoon      Premium                      16   \n",
       "7        Afternoon      Premium                      47   \n",
       "8          Evening      Economy                     128   \n",
       "9            Night      Premium                     128   \n",
       "10         Morning      Economy                     167   \n",
       "11         Evening      Premium                     144   \n",
       "12         Morning      Economy                     164   \n",
       "13           Night      Premium                      83   \n",
       "14       Afternoon      Premium                     102   \n",
       "15       Afternoon      Premium                     140   \n",
       "16       Afternoon      Premium                      54   \n",
       "17       Afternoon      Economy                      15   \n",
       "18         Evening      Premium                      22   \n",
       "19         Evening      Premium                      87   \n",
       "\n",
       "    Historical_Cost_of_Ride  \n",
       "0                284.257273  \n",
       "1                173.874753  \n",
       "2                329.795469  \n",
       "3                470.201232  \n",
       "4                579.681422  \n",
       "5                339.955361  \n",
       "6                104.061541  \n",
       "7                235.811864  \n",
       "8                501.412517  \n",
       "9                398.993365  \n",
       "10               669.298626  \n",
       "11               414.990105  \n",
       "12               490.410722  \n",
       "13               296.242876  \n",
       "14               327.088865  \n",
       "15               445.136868  \n",
       "16               244.536172  \n",
       "17                47.314309  \n",
       "18               129.808263  \n",
       "19               382.948110  "
      ]
     },
     "execution_count": 284,
     "metadata": {},
     "output_type": "execute_result"
    }
   ],
   "source": [
    "df_modelos.head(20)"
   ]
  },
  {
   "cell_type": "code",
   "execution_count": null,
   "metadata": {},
   "outputs": [],
   "source": []
  },
  {
   "cell_type": "markdown",
   "metadata": {},
   "source": [
    "## 1. Clasificacion de variables en estudio:"
   ]
  },
  {
   "cell_type": "markdown",
   "metadata": {},
   "source": [
    "|Variables | Descripcion | Clasificacion| Niveles |\n",
    "|---|---|---|---|\n",
    "| Numero de Pasajeros | Cantidad de pasajeros solicitando viajes en el area | numerica | - |\n",
    "| Numero de Conductores | Cantidad de Conductores disponibles en el area | numerica | - |\n",
    "| Area | Tipo de zona donde se solicita el viaje | nominal | Urban, Rural y Suburban |\n",
    "| Lealtad Cliente | Nivel de clasificacion del cliente por lealtad a la empresa | ordinal | Regular, Silver, Gold |\n",
    "| Cantidad Viajes Pasados | Cantidad de viajes que el cliente ha hecho en el servicio | numerica | - |\n",
    "| Puntaje Promedio | Puntaje Promedio de los viajes | numerica | - |\n",
    "| Hora de agendar | Tiempo del dia en el cual se agendo el viaje | nominal | Night, Afternoon, Morning, Evening |\n",
    "| Tipo de Vehiculo | Clase de Vehiculo, respecto a comodidad y tecnologia, pedidos en el pasado | nominal | Premium, Economy |\n",
    "| Duracion Esperada Viaje | Duracion esperada del viaje en horas | numerica | - |\n",
    "| Costo Historico Viaje | Costo historico (promedio) del viaje | numerica | - |\n"
   ]
  },
  {
   "cell_type": "code",
   "execution_count": 290,
   "metadata": {},
   "outputs": [],
   "source": [
    "def tabla_frecuencia(datos: pd.DataFrame, campo:str):\n",
    "    \"\"\"\n",
    "    Construye una un dataframe, calculando las frecuencias \n",
    "    absolutas y relativas del campo dado.\n",
    "    \"\"\"\n",
    "    frec = pd.crosstab(datos[campo], \"frecuencia\")\n",
    "\n",
    "    relativa = frec / datos.shape[0]\n",
    "\n",
    "    frec[\"relativa\"] = relativa\n",
    "\n",
    "    frec.loc[\"suma\"] = [datos.shape[0], relativa[\"frecuencia\"].sum()]\n",
    "\n",
    "    return frec\n",
    "\n",
    "def medidas_resumen(datos:pd.DataFrame, campo:str):\n",
    "\n",
    "    res = datos[campo].describe()\n",
    "\n",
    "    res[\"var\"] = datos[campo].var()\n",
    "\n",
    "    res = pd.DataFrame(res)\n",
    "\n",
    "    return res\n"
   ]
  },
  {
   "cell_type": "markdown",
   "metadata": {},
   "source": [
    "Enumeraciones de la variables. Unicamente por facilidad de uso para referirse a las variables posteriormente, no influye en el analisis de datos."
   ]
  },
  {
   "cell_type": "code",
   "execution_count": 8,
   "metadata": {},
   "outputs": [],
   "source": [
    "class Categ(Enum):\n",
    "    locacion = \"Location_Category\"\n",
    "    lealtad = \"Customer_Loyalty_Status\"\n",
    "    tiempo_viaje = \"Time_of_Booking\"\n",
    "    vehiculo = \"Vehicle_Type\"\n",
    "\n",
    "\n",
    "class Num(Enum):\n",
    "    viajes_pasados = \"Number_of_Past_Rides\"\n",
    "    puntaje_promedio = \"Average_Ratings\"\n",
    "    pasajeros = \"Number_of_Riders\" \t\n",
    "    conductores = \"Number_of_Drivers\"\n",
    "    duracion_esperada = \"Expected_Ride_Duration\"\n",
    "    costo_historico = \"Historical_Cost_of_Ride\""
   ]
  },
  {
   "cell_type": "markdown",
   "metadata": {},
   "source": [
    "## 2. Analisis de Tendencia central, Variablidad"
   ]
  },
  {
   "cell_type": "markdown",
   "metadata": {},
   "source": [
    "### Categoricas"
   ]
  },
  {
   "cell_type": "markdown",
   "metadata": {},
   "source": [
    "#### **Locación del viaje**"
   ]
  },
  {
   "cell_type": "markdown",
   "metadata": {},
   "source": [
    "##### Frecuencias"
   ]
  },
  {
   "cell_type": "code",
   "execution_count": 292,
   "metadata": {},
   "outputs": [
    {
     "data": {
      "text/html": [
       "<div>\n",
       "<style scoped>\n",
       "    .dataframe tbody tr th:only-of-type {\n",
       "        vertical-align: middle;\n",
       "    }\n",
       "\n",
       "    .dataframe tbody tr th {\n",
       "        vertical-align: top;\n",
       "    }\n",
       "\n",
       "    .dataframe thead th {\n",
       "        text-align: right;\n",
       "    }\n",
       "</style>\n",
       "<table border=\"1\" class=\"dataframe\">\n",
       "  <thead>\n",
       "    <tr style=\"text-align: right;\">\n",
       "      <th>col_0</th>\n",
       "      <th>frecuencia</th>\n",
       "      <th>relativa</th>\n",
       "    </tr>\n",
       "    <tr>\n",
       "      <th>Location_Category</th>\n",
       "      <th></th>\n",
       "      <th></th>\n",
       "    </tr>\n",
       "  </thead>\n",
       "  <tbody>\n",
       "    <tr>\n",
       "      <th>Rural</th>\n",
       "      <td>332.0</td>\n",
       "      <td>0.332</td>\n",
       "    </tr>\n",
       "    <tr>\n",
       "      <th>Suburban</th>\n",
       "      <td>322.0</td>\n",
       "      <td>0.322</td>\n",
       "    </tr>\n",
       "    <tr>\n",
       "      <th>Urban</th>\n",
       "      <td>346.0</td>\n",
       "      <td>0.346</td>\n",
       "    </tr>\n",
       "    <tr>\n",
       "      <th>suma</th>\n",
       "      <td>1000.0</td>\n",
       "      <td>1.000</td>\n",
       "    </tr>\n",
       "  </tbody>\n",
       "</table>\n",
       "</div>"
      ],
      "text/plain": [
       "col_0              frecuencia  relativa\n",
       "Location_Category                      \n",
       "Rural                   332.0     0.332\n",
       "Suburban                322.0     0.322\n",
       "Urban                   346.0     0.346\n",
       "suma                   1000.0     1.000"
      ]
     },
     "execution_count": 292,
     "metadata": {},
     "output_type": "execute_result"
    }
   ],
   "source": [
    "tabla_frecuencia(df_modelos, Categ.locacion.value)"
   ]
  },
  {
   "cell_type": "markdown",
   "metadata": {},
   "source": [
    "##### Visualización"
   ]
  },
  {
   "cell_type": "code",
   "execution_count": 310,
   "metadata": {},
   "outputs": [
    {
     "data": {
      "image/png": "[encoded data removed]",
      "text/plain": [
       "<Figure size 400x400 with 1 Axes>"
      ]
     },
     "metadata": {},
     "output_type": "display_data"
    }
   ],
   "source": [
    "sns.countplot(data=df_modelos, x=Categ.locacion.value, orient=\"h\", color=\"b\", figure=plt.figure(figsize=(4,4)) )\n",
    "plt.show()"
   ]
  },
  {
   "cell_type": "markdown",
   "metadata": {},
   "source": [
    "##### Analisis"
   ]
  },
  {
   "cell_type": "markdown",
   "metadata": {},
   "source": [
    "Observando la gráfica y la tabla de frecuencias se puede ver que la moda de los datos, respecto a la locación del solicitud del viaje, es la zona urbana con 346 viajes. Sin embargo, las proporciones entre las tres categorias son muy similares entre si, y todas cercanas al valor del tercio (33%) que sugeriría la probabilidad. Esta similaridad muestra que la mayoria de la categoria urbana no es significativa. "
   ]
  },
  {
   "cell_type": "markdown",
   "metadata": {},
   "source": [
    "#### **Lealtad del Cliente**"
   ]
  },
  {
   "cell_type": "markdown",
   "metadata": {},
   "source": [
    "##### Frecuencias"
   ]
  },
  {
   "cell_type": "code",
   "execution_count": 99,
   "metadata": {},
   "outputs": [
    {
     "data": {
      "text/html": [
       "<div>\n",
       "<style scoped>\n",
       "    .dataframe tbody tr th:only-of-type {\n",
       "        vertical-align: middle;\n",
       "    }\n",
       "\n",
       "    .dataframe tbody tr th {\n",
       "        vertical-align: top;\n",
       "    }\n",
       "\n",
       "    .dataframe thead th {\n",
       "        text-align: right;\n",
       "    }\n",
       "</style>\n",
       "<table border=\"1\" class=\"dataframe\">\n",
       "  <thead>\n",
       "    <tr style=\"text-align: right;\">\n",
       "      <th>col_0</th>\n",
       "      <th>frecuencia</th>\n",
       "      <th>relativa</th>\n",
       "    </tr>\n",
       "    <tr>\n",
       "      <th>Customer_Loyalty_Status</th>\n",
       "      <th></th>\n",
       "      <th></th>\n",
       "    </tr>\n",
       "  </thead>\n",
       "  <tbody>\n",
       "    <tr>\n",
       "      <th>Gold</th>\n",
       "      <td>313.0</td>\n",
       "      <td>0.313</td>\n",
       "    </tr>\n",
       "    <tr>\n",
       "      <th>Regular</th>\n",
       "      <td>320.0</td>\n",
       "      <td>0.320</td>\n",
       "    </tr>\n",
       "    <tr>\n",
       "      <th>Silver</th>\n",
       "      <td>367.0</td>\n",
       "      <td>0.367</td>\n",
       "    </tr>\n",
       "    <tr>\n",
       "      <th>suma</th>\n",
       "      <td>1000.0</td>\n",
       "      <td>1.000</td>\n",
       "    </tr>\n",
       "  </tbody>\n",
       "</table>\n",
       "</div>"
      ],
      "text/plain": [
       "col_0                    frecuencia  relativa\n",
       "Customer_Loyalty_Status                      \n",
       "Gold                          313.0     0.313\n",
       "Regular                       320.0     0.320\n",
       "Silver                        367.0     0.367\n",
       "suma                         1000.0     1.000"
      ]
     },
     "execution_count": 99,
     "metadata": {},
     "output_type": "execute_result"
    }
   ],
   "source": [
    "tabla_frecuencia(df_modelos, Categ.lealtad.value)"
   ]
  },
  {
   "cell_type": "markdown",
   "metadata": {},
   "source": [
    "##### Visualización"
   ]
  },
  {
   "cell_type": "code",
   "execution_count": 313,
   "metadata": {},
   "outputs": [
    {
     "data": {
      "image/png": "[encoded data removed]",
      "text/plain": [
       "<Figure size 400x400 with 1 Axes>"
      ]
     },
     "metadata": {},
     "output_type": "display_data"
    }
   ],
   "source": [
    "sns.countplot(data=df_modelos, x=Categ.lealtad.value, orient=\"h\", color=\"r\", figure=plt.figure(figsize=(4,4)) )\n",
    "plt.show()"
   ]
  },
  {
   "cell_type": "markdown",
   "metadata": {},
   "source": [
    "##### Analisis"
   ]
  },
  {
   "cell_type": "markdown",
   "metadata": {},
   "source": [
    "Se puede hacer un analisis similar con la categoria de lealtad del cliente: La moda de los datos es la categoria de plata (\"silver\"), con 367 viajes de los viajes registrados en el dataset, distanciandose un 4% de la categoria oro (\"Gold\"), y 5% de la regular. Las proporciones tambien son similares, y se acercan al 33%. Estas proporciones sugieren que la mayoria de la categoria plata no es significativa, y es debida al azar."
   ]
  },
  {
   "cell_type": "markdown",
   "metadata": {},
   "source": [
    "#### **Tiempo del dia de la Solucitud**"
   ]
  },
  {
   "cell_type": "markdown",
   "metadata": {},
   "source": [
    "##### Frecuencias"
   ]
  },
  {
   "cell_type": "code",
   "execution_count": 104,
   "metadata": {},
   "outputs": [
    {
     "data": {
      "text/html": [
       "<div>\n",
       "<style scoped>\n",
       "    .dataframe tbody tr th:only-of-type {\n",
       "        vertical-align: middle;\n",
       "    }\n",
       "\n",
       "    .dataframe tbody tr th {\n",
       "        vertical-align: top;\n",
       "    }\n",
       "\n",
       "    .dataframe thead th {\n",
       "        text-align: right;\n",
       "    }\n",
       "</style>\n",
       "<table border=\"1\" class=\"dataframe\">\n",
       "  <thead>\n",
       "    <tr style=\"text-align: right;\">\n",
       "      <th>col_0</th>\n",
       "      <th>frecuencia</th>\n",
       "      <th>relativa</th>\n",
       "    </tr>\n",
       "    <tr>\n",
       "      <th>Time_of_Booking</th>\n",
       "      <th></th>\n",
       "      <th></th>\n",
       "    </tr>\n",
       "  </thead>\n",
       "  <tbody>\n",
       "    <tr>\n",
       "      <th>Afternoon</th>\n",
       "      <td>247.0</td>\n",
       "      <td>0.247</td>\n",
       "    </tr>\n",
       "    <tr>\n",
       "      <th>Evening</th>\n",
       "      <td>231.0</td>\n",
       "      <td>0.231</td>\n",
       "    </tr>\n",
       "    <tr>\n",
       "      <th>Morning</th>\n",
       "      <td>246.0</td>\n",
       "      <td>0.246</td>\n",
       "    </tr>\n",
       "    <tr>\n",
       "      <th>Night</th>\n",
       "      <td>276.0</td>\n",
       "      <td>0.276</td>\n",
       "    </tr>\n",
       "    <tr>\n",
       "      <th>suma</th>\n",
       "      <td>1000.0</td>\n",
       "      <td>1.000</td>\n",
       "    </tr>\n",
       "  </tbody>\n",
       "</table>\n",
       "</div>"
      ],
      "text/plain": [
       "col_0            frecuencia  relativa\n",
       "Time_of_Booking                      \n",
       "Afternoon             247.0     0.247\n",
       "Evening               231.0     0.231\n",
       "Morning               246.0     0.246\n",
       "Night                 276.0     0.276\n",
       "suma                 1000.0     1.000"
      ]
     },
     "execution_count": 104,
     "metadata": {},
     "output_type": "execute_result"
    }
   ],
   "source": [
    "tabla_frecuencia(df_modelos, Categ.tiempo_viaje.value)"
   ]
  },
  {
   "cell_type": "markdown",
   "metadata": {},
   "source": [
    "##### Visualización"
   ]
  },
  {
   "cell_type": "code",
   "execution_count": 321,
   "metadata": {},
   "outputs": [
    {
     "data": {
      "image/png": "[encoded data removed]",
      "text/plain": [
       "<Figure size 400x400 with 1 Axes>"
      ]
     },
     "metadata": {},
     "output_type": "display_data"
    }
   ],
   "source": [
    "sns.countplot(data=df_modelos, x=Categ.tiempo_viaje.value, orient=\"h\", color=\"m\", figure=plt.figure(figsize=(4,4))) \n",
    "plt.show()"
   ]
  },
  {
   "cell_type": "markdown",
   "metadata": {},
   "source": [
    "##### Analisis"
   ]
  },
  {
   "cell_type": "markdown",
   "metadata": {},
   "source": [
    "La tabla de frecuencia, y el grafico de barras muestran que en las horas de la noche se piden la mayor cantidad de viajes para los datos dados, un 27% de las veces. La menor cantidad de viajes se piden en al anochecer con un 23%, y una cantidad similar en las horas de la tarde y la mañana. Sin embargo, todos estos porcentajes estan muy cercanos a los esperados por unicamente el azar (25%), sugiriendo que las diferencias no son signicativas tampoco en la hora de solicitud."
   ]
  },
  {
   "cell_type": "markdown",
   "metadata": {},
   "source": [
    "#### **Tipo de Vehiculo**"
   ]
  },
  {
   "cell_type": "markdown",
   "metadata": {},
   "source": [
    "##### Frecuencias"
   ]
  },
  {
   "cell_type": "code",
   "execution_count": 106,
   "metadata": {
    "scrolled": true
   },
   "outputs": [
    {
     "data": {
      "text/html": [
       "<div>\n",
       "<style scoped>\n",
       "    .dataframe tbody tr th:only-of-type {\n",
       "        vertical-align: middle;\n",
       "    }\n",
       "\n",
       "    .dataframe tbody tr th {\n",
       "        vertical-align: top;\n",
       "    }\n",
       "\n",
       "    .dataframe thead th {\n",
       "        text-align: right;\n",
       "    }\n",
       "</style>\n",
       "<table border=\"1\" class=\"dataframe\">\n",
       "  <thead>\n",
       "    <tr style=\"text-align: right;\">\n",
       "      <th>col_0</th>\n",
       "      <th>frecuencia</th>\n",
       "      <th>relativa</th>\n",
       "    </tr>\n",
       "    <tr>\n",
       "      <th>Vehicle_Type</th>\n",
       "      <th></th>\n",
       "      <th></th>\n",
       "    </tr>\n",
       "  </thead>\n",
       "  <tbody>\n",
       "    <tr>\n",
       "      <th>Economy</th>\n",
       "      <td>478.0</td>\n",
       "      <td>0.478</td>\n",
       "    </tr>\n",
       "    <tr>\n",
       "      <th>Premium</th>\n",
       "      <td>522.0</td>\n",
       "      <td>0.522</td>\n",
       "    </tr>\n",
       "    <tr>\n",
       "      <th>suma</th>\n",
       "      <td>1000.0</td>\n",
       "      <td>1.000</td>\n",
       "    </tr>\n",
       "  </tbody>\n",
       "</table>\n",
       "</div>"
      ],
      "text/plain": [
       "col_0         frecuencia  relativa\n",
       "Vehicle_Type                      \n",
       "Economy            478.0     0.478\n",
       "Premium            522.0     0.522\n",
       "suma              1000.0     1.000"
      ]
     },
     "execution_count": 106,
     "metadata": {},
     "output_type": "execute_result"
    }
   ],
   "source": [
    "tabla_frecuencia(df_modelos, Categ.vehiculo.value)"
   ]
  },
  {
   "cell_type": "markdown",
   "metadata": {},
   "source": [
    "##### Visualización"
   ]
  },
  {
   "cell_type": "code",
   "execution_count": 320,
   "metadata": {},
   "outputs": [
    {
     "data": {
      "image/png": "[encoded data removed]",
      "text/plain": [
       "<Figure size 400x400 with 1 Axes>"
      ]
     },
     "metadata": {},
     "output_type": "display_data"
    }
   ],
   "source": [
    "sns.countplot(data=df_modelos, x=Categ.vehiculo.value, orient=\"h\", color=\"g\", figure=plt.figure(figsize=(4,4)) )\n",
    "plt.show()"
   ]
  },
  {
   "cell_type": "markdown",
   "metadata": {},
   "source": [
    "##### Analisis"
   ]
  },
  {
   "cell_type": "markdown",
   "metadata": {},
   "source": [
    "Para el tipo de vehiculo, la mayoria de los vehiculos pedidos son de tipos premium: 572 vehiculos representando el 52.2%, contra el 47.5% de los la categoria de economia. Ambas categorias tienen porcentajes muy similares de solicitud, y cercanos a los que se podrian esperar por simple azar (50%). estas observaciones parecen indicar que el servicio premium de transporte es ligeramente mejor que el servicio economico."
   ]
  },
  {
   "cell_type": "markdown",
   "metadata": {},
   "source": [
    "### Numericas:"
   ]
  },
  {
   "cell_type": "markdown",
   "metadata": {},
   "source": [
    "#### **Cantidad de Viajeros**"
   ]
  },
  {
   "cell_type": "markdown",
   "metadata": {},
   "source": [
    "##### Medidas de Resumen"
   ]
  },
  {
   "cell_type": "code",
   "execution_count": 132,
   "metadata": {
    "scrolled": true
   },
   "outputs": [
    {
     "data": {
      "text/html": [
       "<div>\n",
       "<style scoped>\n",
       "    .dataframe tbody tr th:only-of-type {\n",
       "        vertical-align: middle;\n",
       "    }\n",
       "\n",
       "    .dataframe tbody tr th {\n",
       "        vertical-align: top;\n",
       "    }\n",
       "\n",
       "    .dataframe thead th {\n",
       "        text-align: right;\n",
       "    }\n",
       "</style>\n",
       "<table border=\"1\" class=\"dataframe\">\n",
       "  <thead>\n",
       "    <tr style=\"text-align: right;\">\n",
       "      <th></th>\n",
       "      <th>Number_of_Riders</th>\n",
       "    </tr>\n",
       "  </thead>\n",
       "  <tbody>\n",
       "    <tr>\n",
       "      <th>count</th>\n",
       "      <td>1000.000000</td>\n",
       "    </tr>\n",
       "    <tr>\n",
       "      <th>mean</th>\n",
       "      <td>60.372000</td>\n",
       "    </tr>\n",
       "    <tr>\n",
       "      <th>std</th>\n",
       "      <td>23.701506</td>\n",
       "    </tr>\n",
       "    <tr>\n",
       "      <th>min</th>\n",
       "      <td>20.000000</td>\n",
       "    </tr>\n",
       "    <tr>\n",
       "      <th>25%</th>\n",
       "      <td>40.000000</td>\n",
       "    </tr>\n",
       "    <tr>\n",
       "      <th>50%</th>\n",
       "      <td>60.000000</td>\n",
       "    </tr>\n",
       "    <tr>\n",
       "      <th>75%</th>\n",
       "      <td>81.000000</td>\n",
       "    </tr>\n",
       "    <tr>\n",
       "      <th>max</th>\n",
       "      <td>100.000000</td>\n",
       "    </tr>\n",
       "    <tr>\n",
       "      <th>var</th>\n",
       "      <td>561.761377</td>\n",
       "    </tr>\n",
       "  </tbody>\n",
       "</table>\n",
       "</div>"
      ],
      "text/plain": [
       "       Number_of_Riders\n",
       "count       1000.000000\n",
       "mean          60.372000\n",
       "std           23.701506\n",
       "min           20.000000\n",
       "25%           40.000000\n",
       "50%           60.000000\n",
       "75%           81.000000\n",
       "max          100.000000\n",
       "var          561.761377"
      ]
     },
     "execution_count": 132,
     "metadata": {},
     "output_type": "execute_result"
    }
   ],
   "source": [
    "medidas_resumen(df_modelos, Num.pasajeros.value)"
   ]
  },
  {
   "cell_type": "markdown",
   "metadata": {},
   "source": [
    "##### Visualización"
   ]
  },
  {
   "cell_type": "code",
   "execution_count": 322,
   "metadata": {},
   "outputs": [
    {
     "data": {
      "image/png": "[encoded data removed]",
      "text/plain": [
       "<Figure size 640x480 with 1 Axes>"
      ]
     },
     "metadata": {},
     "output_type": "display_data"
    }
   ],
   "source": [
    "sns.boxplot(df_modelos[Num.pasajeros.value], orient=\"h\", color=\"g\")\n",
    "plt.show()"
   ]
  },
  {
   "cell_type": "markdown",
   "metadata": {},
   "source": [
    "##### Analisis:"
   ]
  },
  {
   "cell_type": "markdown",
   "metadata": {},
   "source": [
    "El gráfico de cajas y bigotes muestra la distribucion de pasajeros solicitantes en el momento de la solicitud del viaje. Los datos estan distribuidos de forma simetrica en alrededor de la media, que es de $60$ pasajeros. los limites de la caja muestran que en el $50\\%$ de los casos los pasajeros estan en cantidad entre $40$ y $80$. el minimo de pasajeros es $20$, y el maximo es $100$.\n",
    "\n",
    "El promedio es de $60.37$, muy cercano a la media, la desviación estandard es de $23.70$ pasajeros, que es muy cercano a la separacion entre cuartiles de $20$. Estas observaciones muestran que los datos no tienen sesgo hacia ninguna dirección, tienen una desviacion baja, y que estan bien distribuidos."
   ]
  },
  {
   "cell_type": "markdown",
   "metadata": {},
   "source": [
    "#### **Calificacion del Viaje**"
   ]
  },
  {
   "cell_type": "markdown",
   "metadata": {},
   "source": [
    "##### Medidas de Resumen"
   ]
  },
  {
   "cell_type": "code",
   "execution_count": 134,
   "metadata": {
    "scrolled": true
   },
   "outputs": [
    {
     "data": {
      "text/html": [
       "<div>\n",
       "<style scoped>\n",
       "    .dataframe tbody tr th:only-of-type {\n",
       "        vertical-align: middle;\n",
       "    }\n",
       "\n",
       "    .dataframe tbody tr th {\n",
       "        vertical-align: top;\n",
       "    }\n",
       "\n",
       "    .dataframe thead th {\n",
       "        text-align: right;\n",
       "    }\n",
       "</style>\n",
       "<table border=\"1\" class=\"dataframe\">\n",
       "  <thead>\n",
       "    <tr style=\"text-align: right;\">\n",
       "      <th></th>\n",
       "      <th>Average_Ratings</th>\n",
       "    </tr>\n",
       "  </thead>\n",
       "  <tbody>\n",
       "    <tr>\n",
       "      <th>count</th>\n",
       "      <td>1000.000000</td>\n",
       "    </tr>\n",
       "    <tr>\n",
       "      <th>mean</th>\n",
       "      <td>4.257220</td>\n",
       "    </tr>\n",
       "    <tr>\n",
       "      <th>std</th>\n",
       "      <td>0.435781</td>\n",
       "    </tr>\n",
       "    <tr>\n",
       "      <th>min</th>\n",
       "      <td>3.500000</td>\n",
       "    </tr>\n",
       "    <tr>\n",
       "      <th>25%</th>\n",
       "      <td>3.870000</td>\n",
       "    </tr>\n",
       "    <tr>\n",
       "      <th>50%</th>\n",
       "      <td>4.270000</td>\n",
       "    </tr>\n",
       "    <tr>\n",
       "      <th>75%</th>\n",
       "      <td>4.632500</td>\n",
       "    </tr>\n",
       "    <tr>\n",
       "      <th>max</th>\n",
       "      <td>5.000000</td>\n",
       "    </tr>\n",
       "    <tr>\n",
       "      <th>var</th>\n",
       "      <td>0.189905</td>\n",
       "    </tr>\n",
       "  </tbody>\n",
       "</table>\n",
       "</div>"
      ],
      "text/plain": [
       "       Average_Ratings\n",
       "count      1000.000000\n",
       "mean          4.257220\n",
       "std           0.435781\n",
       "min           3.500000\n",
       "25%           3.870000\n",
       "50%           4.270000\n",
       "75%           4.632500\n",
       "max           5.000000\n",
       "var           0.189905"
      ]
     },
     "execution_count": 134,
     "metadata": {},
     "output_type": "execute_result"
    }
   ],
   "source": [
    "medidas_resumen(df_modelos, Num.puntaje_promedio.value)"
   ]
  },
  {
   "cell_type": "markdown",
   "metadata": {},
   "source": [
    "##### Visualización"
   ]
  },
  {
   "cell_type": "code",
   "execution_count": 328,
   "metadata": {},
   "outputs": [
    {
     "data": {
      "image/png": "[encoded data removed]",
      "text/plain": [
       "<Figure size 640x480 with 1 Axes>"
      ]
     },
     "metadata": {},
     "output_type": "display_data"
    }
   ],
   "source": [
    "sns.boxplot(df_modelos[Num.puntaje_promedio.value], orient=\"h\", color=\"orange\")\n",
    "plt.show()"
   ]
  },
  {
   "cell_type": "markdown",
   "metadata": {},
   "source": [
    "##### Analisis"
   ]
  },
  {
   "cell_type": "markdown",
   "metadata": {},
   "source": [
    "El gráfico de caja muestra una forma simetrica, con ambos bordes de la caja siendo las calificaciones de $3.67$ y $4.63$. La minima calificación es de $3.5$, la maxima del $5.0$. Esto muestra ninguno de los usuarios piensa que el servicio es malo ($<3.5$), un $25\\%$ piensa que el sevicio es mediocre ($< 3.67$), un $50\\%$ de los usuarios piensan que es desde mediocre hasta bueno ( > $3.6$ y $< 4.7$), y un $25\\%$ piensan que es muy bueno ($> 4.7$ ). \n",
    "\n",
    "el promedio de $4.26$ y la media de $4.27$ son muy similares entre si. La desviación estandar es de $0.43$ en puntaje. Estas observaciones muestran que el conjunto completo esta sesgado hacia puntajes altos por ser el minimo $3.5$, pero entre ese limite y el maximo de $5$ es uniforme la distribución. "
   ]
  },
  {
   "cell_type": "markdown",
   "metadata": {},
   "source": [
    "#### **Duracion Esperada del Viaje**"
   ]
  },
  {
   "cell_type": "markdown",
   "metadata": {},
   "source": [
    "##### Medidas de Resumen"
   ]
  },
  {
   "cell_type": "code",
   "execution_count": 139,
   "metadata": {
    "scrolled": true
   },
   "outputs": [
    {
     "data": {
      "text/html": [
       "<div>\n",
       "<style scoped>\n",
       "    .dataframe tbody tr th:only-of-type {\n",
       "        vertical-align: middle;\n",
       "    }\n",
       "\n",
       "    .dataframe tbody tr th {\n",
       "        vertical-align: top;\n",
       "    }\n",
       "\n",
       "    .dataframe thead th {\n",
       "        text-align: right;\n",
       "    }\n",
       "</style>\n",
       "<table border=\"1\" class=\"dataframe\">\n",
       "  <thead>\n",
       "    <tr style=\"text-align: right;\">\n",
       "      <th></th>\n",
       "      <th>Expected_Ride_Duration</th>\n",
       "    </tr>\n",
       "  </thead>\n",
       "  <tbody>\n",
       "    <tr>\n",
       "      <th>count</th>\n",
       "      <td>1000.000000</td>\n",
       "    </tr>\n",
       "    <tr>\n",
       "      <th>mean</th>\n",
       "      <td>99.588000</td>\n",
       "    </tr>\n",
       "    <tr>\n",
       "      <th>std</th>\n",
       "      <td>49.165450</td>\n",
       "    </tr>\n",
       "    <tr>\n",
       "      <th>min</th>\n",
       "      <td>10.000000</td>\n",
       "    </tr>\n",
       "    <tr>\n",
       "      <th>25%</th>\n",
       "      <td>59.750000</td>\n",
       "    </tr>\n",
       "    <tr>\n",
       "      <th>50%</th>\n",
       "      <td>102.000000</td>\n",
       "    </tr>\n",
       "    <tr>\n",
       "      <th>75%</th>\n",
       "      <td>143.000000</td>\n",
       "    </tr>\n",
       "    <tr>\n",
       "      <th>max</th>\n",
       "      <td>180.000000</td>\n",
       "    </tr>\n",
       "    <tr>\n",
       "      <th>var</th>\n",
       "      <td>2417.241497</td>\n",
       "    </tr>\n",
       "  </tbody>\n",
       "</table>\n",
       "</div>"
      ],
      "text/plain": [
       "       Expected_Ride_Duration\n",
       "count             1000.000000\n",
       "mean                99.588000\n",
       "std                 49.165450\n",
       "min                 10.000000\n",
       "25%                 59.750000\n",
       "50%                102.000000\n",
       "75%                143.000000\n",
       "max                180.000000\n",
       "var               2417.241497"
      ]
     },
     "execution_count": 139,
     "metadata": {},
     "output_type": "execute_result"
    }
   ],
   "source": [
    "medidas_resumen(df_modelos, Num.duracion_esperada.value)"
   ]
  },
  {
   "cell_type": "markdown",
   "metadata": {},
   "source": [
    "##### Visualización"
   ]
  },
  {
   "cell_type": "code",
   "execution_count": 324,
   "metadata": {},
   "outputs": [
    {
     "data": {
      "image/png": "[encoded data removed]",
      "text/plain": [
       "<Figure size 640x480 with 1 Axes>"
      ]
     },
     "metadata": {},
     "output_type": "display_data"
    }
   ],
   "source": [
    "sns.boxplot(df_modelos[Num.duracion_esperada.value], orient=\"h\", color=\"c\")\n",
    "plt.show()"
   ]
  },
  {
   "cell_type": "markdown",
   "metadata": {},
   "source": [
    "##### Analisis:"
   ]
  },
  {
   "cell_type": "markdown",
   "metadata": {},
   "source": [
    "Se asume que la duracion esperada de los viajes esta en minutos, ya que no hay información de unidades en el dataset.\n",
    "La mediana de la duración esperada del viaje esta en los $102$ min, con los limites de los cuartiles $59.7$ y $143$. los valores mimino  maximo son de $10$ min y de $180$ min. el $25\\%$ de los viajes dura entre $10$ minutos y $1$ hora, el $50\\%$ siguiente esta entre $1$ hora y $2$ horas, $40$ min, y el ultimo $25\\%$ entre las $2$ horas , $40$ min y las $3$ horas maximo.\n",
    "\n",
    "el promedio de $99$ min es similar a la mediana de $102$. La similaridad indica que los datos estan distribuidos uniformemente sobre todo el rango de la duración.\n",
    "\n",
    "La desviación estandar es de $49$, que es alta para la duración esperada de los viajes. Esto puede deberse a que la cubertura del servicio se da en zonas urbanas y rurales, siendo las rurales mas lejanas. Esto tambien explicaria la gran duracion del $75\\%$ de los viajes en el dataset."
   ]
  },
  {
   "cell_type": "markdown",
   "metadata": {},
   "source": [
    "#### **Costo historico del Viaje**"
   ]
  },
  {
   "cell_type": "markdown",
   "metadata": {},
   "source": [
    "##### Medidas de Resumen"
   ]
  },
  {
   "cell_type": "code",
   "execution_count": 142,
   "metadata": {
    "scrolled": true
   },
   "outputs": [
    {
     "data": {
      "text/html": [
       "<div>\n",
       "<style scoped>\n",
       "    .dataframe tbody tr th:only-of-type {\n",
       "        vertical-align: middle;\n",
       "    }\n",
       "\n",
       "    .dataframe tbody tr th {\n",
       "        vertical-align: top;\n",
       "    }\n",
       "\n",
       "    .dataframe thead th {\n",
       "        text-align: right;\n",
       "    }\n",
       "</style>\n",
       "<table border=\"1\" class=\"dataframe\">\n",
       "  <thead>\n",
       "    <tr style=\"text-align: right;\">\n",
       "      <th></th>\n",
       "      <th>Historical_Cost_of_Ride</th>\n",
       "    </tr>\n",
       "  </thead>\n",
       "  <tbody>\n",
       "    <tr>\n",
       "      <th>count</th>\n",
       "      <td>1000.000000</td>\n",
       "    </tr>\n",
       "    <tr>\n",
       "      <th>mean</th>\n",
       "      <td>372.502623</td>\n",
       "    </tr>\n",
       "    <tr>\n",
       "      <th>std</th>\n",
       "      <td>187.158756</td>\n",
       "    </tr>\n",
       "    <tr>\n",
       "      <th>min</th>\n",
       "      <td>25.993449</td>\n",
       "    </tr>\n",
       "    <tr>\n",
       "      <th>25%</th>\n",
       "      <td>221.365202</td>\n",
       "    </tr>\n",
       "    <tr>\n",
       "      <th>50%</th>\n",
       "      <td>362.019426</td>\n",
       "    </tr>\n",
       "    <tr>\n",
       "      <th>75%</th>\n",
       "      <td>510.497504</td>\n",
       "    </tr>\n",
       "    <tr>\n",
       "      <th>max</th>\n",
       "      <td>836.116419</td>\n",
       "    </tr>\n",
       "    <tr>\n",
       "      <th>var</th>\n",
       "      <td>35028.400030</td>\n",
       "    </tr>\n",
       "  </tbody>\n",
       "</table>\n",
       "</div>"
      ],
      "text/plain": [
       "       Historical_Cost_of_Ride\n",
       "count              1000.000000\n",
       "mean                372.502623\n",
       "std                 187.158756\n",
       "min                  25.993449\n",
       "25%                 221.365202\n",
       "50%                 362.019426\n",
       "75%                 510.497504\n",
       "max                 836.116419\n",
       "var               35028.400030"
      ]
     },
     "execution_count": 142,
     "metadata": {},
     "output_type": "execute_result"
    }
   ],
   "source": [
    "medidas_resumen(df_modelos, Num.costo_historico.value)"
   ]
  },
  {
   "cell_type": "code",
   "execution_count": 334,
   "metadata": {},
   "outputs": [
    {
     "data": {
      "text/plain": [
       "148"
      ]
     },
     "execution_count": 334,
     "metadata": {},
     "output_type": "execute_result"
    }
   ],
   "source": [
    "510 - 362"
   ]
  },
  {
   "cell_type": "markdown",
   "metadata": {},
   "source": [
    "##### Visualización"
   ]
  },
  {
   "cell_type": "code",
   "execution_count": 325,
   "metadata": {},
   "outputs": [
    {
     "data": {
      "image/png": "[encoded data removed]",
      "text/plain": [
       "<Figure size 640x480 with 1 Axes>"
      ]
     },
     "metadata": {},
     "output_type": "display_data"
    }
   ],
   "source": [
    "sns.boxplot(df_modelos[Num.costo_historico.value], orient=\"h\", color=\"m\")\n",
    "plt.show()"
   ]
  },
  {
   "cell_type": "markdown",
   "metadata": {},
   "source": [
    "##### Analisis:"
   ]
  },
  {
   "cell_type": "markdown",
   "metadata": {},
   "source": [
    "No se brinda información sobre la unidad monetaria en la fuente de la información. Se van a usar unidades monetarias genericas *M* para indicar la cantidad.\n",
    "\n",
    "La mediana del conjunto esta en $362$ M, y los limites de la caja son $221.36$ M y $510.49$ M\n",
    "\n",
    "el promedio es de $372.5$ M, algo superior a la mediana. la desviación estandar es de $187$ M, siendo muy alta. La distancia entre los cuartiles 1,2 es de $141$, y 2,3 es de aprox. $148$ M. Esto implica que los datos tiene mucha variabilidad, y se desvia ligeramente hacia la izquierda, hacia valores bajos. "
   ]
  },
  {
   "cell_type": "markdown",
   "metadata": {},
   "source": [
    "# 2. Análisis Bidimensional e Inferencial."
   ]
  },
  {
   "cell_type": "markdown",
   "metadata": {},
   "source": [
    "## 1. Dispersion de pares"
   ]
  },
  {
   "cell_type": "markdown",
   "metadata": {},
   "source": [
    "### Costo Historico del Viaje vs. Cantidad de pasajeros"
   ]
  },
  {
   "cell_type": "code",
   "execution_count": 173,
   "metadata": {},
   "outputs": [
    {
     "data": {
      "image/png": "[encoded data removed]",
      "text/plain": [
       "<Figure size 640x480 with 1 Axes>"
      ]
     },
     "metadata": {},
     "output_type": "display_data"
    }
   ],
   "source": [
    "sns.scatterplot(df_modelos, x=Num.pasajeros.value, y=Num.costo_historico.value, marker=\"D\" )\n",
    "plt.show()"
   ]
  },
  {
   "cell_type": "markdown",
   "metadata": {},
   "source": [
    "### Costo Historico del Viaje vs. Puntaje Promedio "
   ]
  },
  {
   "cell_type": "code",
   "execution_count": 172,
   "metadata": {},
   "outputs": [
    {
     "data": {
      "image/png": "[encoded data removed]",
      "text/plain": [
       "<Figure size 640x480 with 1 Axes>"
      ]
     },
     "metadata": {},
     "output_type": "display_data"
    }
   ],
   "source": [
    "sns.scatterplot(df_modelos, x=Num.puntaje_promedio.value, y=Num.costo_historico.value, color=\"g\", marker=\"^\" )\n",
    "plt.show()"
   ]
  },
  {
   "cell_type": "markdown",
   "metadata": {},
   "source": [
    "### Costo Historico del Viaje vs. Duracion Esperada del Viaje "
   ]
  },
  {
   "cell_type": "code",
   "execution_count": 175,
   "metadata": {},
   "outputs": [
    {
     "data": {
      "image/png": "[encoded data removed]",
      "text/plain": [
       "<Figure size 640x480 with 1 Axes>"
      ]
     },
     "metadata": {},
     "output_type": "display_data"
    }
   ],
   "source": [
    "sns.scatterplot(df_modelos, x=Num.duracion_esperada.value, y=Num.costo_historico.value , color=\"orange\", marker=\".\")\n",
    "plt.show()"
   ]
  },
  {
   "cell_type": "markdown",
   "metadata": {},
   "source": [
    "### Analisis de tendencias"
   ]
  },
  {
   "cell_type": "markdown",
   "metadata": {},
   "source": [
    "En las dos primeras graficas, no se puede observar una dirección aparente para los puntos, y \n",
    "parecen estar distribuidos por el plano de forma aleatoria. Esto indica que posiblemente no hay relación entre **Costo historico del viaje** vs. **Cantidad de pasajeros**; y entre **Costo historico del viaje** vs. **Puntaje Promedio del viaje**.\n",
    "\n",
    "En la tercera grafica se ve claramente un tendencia creciente entre **Costo Historico del viaje** vs. **Duración esperada del viaje**, y sugiere que la relación es lineal. Esto tiene sentido logico, ya que el costo de viaje debe aumentar con la longitud que este toma, ya que se gasta más combustible y tiempo del conductor, causando mas gasto."
   ]
  },
  {
   "cell_type": "markdown",
   "metadata": {},
   "source": [
    "## 2. Correlaciones Lineales"
   ]
  },
  {
   "cell_type": "code",
   "execution_count": 44,
   "metadata": {},
   "outputs": [],
   "source": [
    "variables_viajes = df_modelos[[Num.pasajeros.value, Num.duracion_esperada.value, Num.costo_historico.value]]\n",
    "\n",
    "corr = pd.DataFrame(index=variables_viajes.columns, columns=variables_viajes.columns)\n",
    "\n",
    "valores_p = corr.copy()\n",
    "\n",
    "for variable_1 in variables_viajes.columns:\n",
    "    coefs = []\n",
    "    p_valores = []\n",
    " \n",
    "    for variable_2 in variables_viajes.columns:\n",
    "        coef, p_valor = pearsonr(variables_viajes[variable_1], variables_viajes[variable_2])\n",
    "        coefs.append(coef)\n",
    "        p_valores.append(p_valor)\n",
    "\n",
    "    corr[variable_1] = coefs\n",
    "    valores_p[variable_1] = p_valores"
   ]
  },
  {
   "cell_type": "markdown",
   "metadata": {},
   "source": [
    "### Coeficientes de Correlación"
   ]
  },
  {
   "cell_type": "code",
   "execution_count": 42,
   "metadata": {},
   "outputs": [
    {
     "data": {
      "image/png": "[encoded data removed]",
      "text/plain": [
       "<Figure size 400x400 with 2 Axes>"
      ]
     },
     "metadata": {},
     "output_type": "display_data"
    }
   ],
   "source": [
    "heatmap(corr, \"Coeficientes Pearson\")"
   ]
  },
  {
   "cell_type": "markdown",
   "metadata": {},
   "source": [
    "### Valores P de las pruebas estadiscas de correlación"
   ]
  },
  {
   "cell_type": "code",
   "execution_count": 273,
   "metadata": {},
   "outputs": [
    {
     "data": {
      "image/png": "[encoded data removed]",
      "text/plain": [
       "<Figure size 400x400 with 2 Axes>"
      ]
     },
     "metadata": {},
     "output_type": "display_data"
    }
   ],
   "source": [
    "heatmap(valores_p, \"Valores P\", formato=\".3f\", mapa=\"Reds_r\")"
   ]
  },
  {
   "cell_type": "markdown",
   "metadata": {},
   "source": [
    "### Analisis Sobre las correlaciones:"
   ]
  },
  {
   "cell_type": "markdown",
   "metadata": {},
   "source": [
    "El primer mapa de calor muestra los resultados del test de pearson. Se observa que solo se obtuvo un valor alto \n",
    "y cercano a 1 entre las variables de **costo historico del viaje** y **duración esperada del viaje** con un valor de $r= 0.93$. Esto sugiere que la relacion es fuertemente lineal en este emparejamiento. \n",
    "\n",
    "En los demas pares, **costo historico del viaje** vs. **Cantidad de Pasajeros** y **duración esperada del viaje** vs. **Cantidad de Pasajeros**, se observan valores de *r* casi nulos. Esto implica que no tienen correlacion lineal, pero no descarta que puedan tener algún otro tipo de correlación. \n",
    "\n",
    "Para comprobar estas relaciones se recurre al calculo de valores *P*. Para esto hay que tener en cuenta cuales hipotesis se estan usando:\n",
    "$$ H_0: \\rho = 0 $$\n",
    "$$ H_1: \\rho \\neq 0 $$\n",
    "\n",
    "donde $\\rho$ es el coeficiente de pearson de la población. Lo que significa la hipotesis nula es que las varaibles no tienen una correlación lineal, y estan distribuidos normalmente en la población.\n",
    "\n",
    "El segundo mapa de calor esta alterado para que valores bajos tengan una coloración mas intensa; y se puede observar que el valor mas bajo de *P* (y menor a 0.05) se da precisamente entre **costo historico del viaje** y **duración esperada del viaje**. En este caso, se rechaza la hipotesis nula, y se concluye que hay una alta posibilidad de que ambas tengan una correlación lineal fuerte.\n",
    "\n",
    "Para los otros dos pares, se encuentra que los valores *P* son: \n",
    "\n",
    "**costo historico del viaje** vs. **Cantidad de Pasajeros**: $p = 0.854$\n",
    "\n",
    "**duración esperada del viaje** vs. **Cantidad de Pasajeros**: $p = 0.616$ \n",
    "\n",
    "Los valores altos y mayores que 0.05 sugieren aceptar la hipotesis nula, y aceptar que los pares de variables no tienen correlacion lineal, y posiblimente no tienen correlación en la población. \n"
   ]
  },
  {
   "cell_type": "markdown",
   "metadata": {},
   "source": [
    "## 3. Tablas de Contingencia Y comprobación de Relaciones"
   ]
  },
  {
   "cell_type": "markdown",
   "metadata": {},
   "source": [
    "El siguiente fragmento de codigo calcula las tablas de contingencia para las combinaciones de tres variables dadas"
   ]
  },
  {
   "cell_type": "code",
   "execution_count": 216,
   "metadata": {},
   "outputs": [],
   "source": [
    "def tabla_contingencia(datos, factores):\n",
    "    f1, f2 = factores\n",
    "    \n",
    "    tabla = pd.crosstab(datos[f1], datos[f2],  margins=True)\n",
    "\n",
    "    return tabla\n",
    "\n",
    "def test_chi_cuadrado(datos):\n",
    "    #crea un dataframe, con las filas siendo los totales de las columnas, duplicado\n",
    "    #la cantidad de filas de los datos\n",
    "    totales_por_columna_aumentado = pd.DataFrame([datos.iloc[-1,:-1].values]*(datos.shape[0] - 1))\n",
    "\n",
    "    probabilidad_positiva= datos.iloc[:-1,-1].values / datos.iloc[-1,-1] \n",
    "\n",
    "    #calculo de la frecuencias esperadas, multiplicando la probabilidad del \n",
    "    #evento positivo por el total de columna, por cada fila\n",
    "    frec_esp = totales_por_columna_aumentado.mul(probabilidad_positiva, axis=0)\n",
    "\n",
    "    #delta de los grados de libertad para el chi cuadrado\n",
    "    ddof = sum(frec_esp.shape) - 2\n",
    "\n",
    "    gl = (frec_esp.shape[0] - 1) * (frec_esp.shape[1] - 1)\n",
    "\n",
    "    #el parametro axis, hace que las frecuencias se tomen como si fuera un vector\n",
    "    return chisquare(datos.iloc[:-1, :-1], f_exp=frec_esp, ddof=ddof, axis=None), gl, ddof\n",
    "\n",
    "def mostrar_chi(resultados):\n",
    "    test, gl, ddof = resultados\n",
    "\n",
    "    print(f\"Chi Cuadrado    : {test.statistic:.3f}\")\n",
    "    \n",
    "    print(f\"Valor P         : {test.pvalue:.3f}\")\n",
    "    \n",
    "    print(f\"Grados libertad : {gl}\")\n",
    "    \n",
    "    print(f\"ddof            : {ddof}\")\n",
    "    "
   ]
  },
  {
   "cell_type": "markdown",
   "metadata": {},
   "source": [
    "### Lealtad del Cliente vs. Hora de Agendar "
   ]
  },
  {
   "cell_type": "code",
   "execution_count": 205,
   "metadata": {},
   "outputs": [
    {
     "data": {
      "text/html": [
       "<div>\n",
       "<style scoped>\n",
       "    .dataframe tbody tr th:only-of-type {\n",
       "        vertical-align: middle;\n",
       "    }\n",
       "\n",
       "    .dataframe tbody tr th {\n",
       "        vertical-align: top;\n",
       "    }\n",
       "\n",
       "    .dataframe thead th {\n",
       "        text-align: right;\n",
       "    }\n",
       "</style>\n",
       "<table border=\"1\" class=\"dataframe\">\n",
       "  <thead>\n",
       "    <tr style=\"text-align: right;\">\n",
       "      <th>Time_of_Booking</th>\n",
       "      <th>Afternoon</th>\n",
       "      <th>Evening</th>\n",
       "      <th>Morning</th>\n",
       "      <th>Night</th>\n",
       "      <th>All</th>\n",
       "    </tr>\n",
       "    <tr>\n",
       "      <th>Customer_Loyalty_Status</th>\n",
       "      <th></th>\n",
       "      <th></th>\n",
       "      <th></th>\n",
       "      <th></th>\n",
       "      <th></th>\n",
       "    </tr>\n",
       "  </thead>\n",
       "  <tbody>\n",
       "    <tr>\n",
       "      <th>Gold</th>\n",
       "      <td>68</td>\n",
       "      <td>76</td>\n",
       "      <td>79</td>\n",
       "      <td>90</td>\n",
       "      <td>313</td>\n",
       "    </tr>\n",
       "    <tr>\n",
       "      <th>Regular</th>\n",
       "      <td>89</td>\n",
       "      <td>74</td>\n",
       "      <td>79</td>\n",
       "      <td>78</td>\n",
       "      <td>320</td>\n",
       "    </tr>\n",
       "    <tr>\n",
       "      <th>Silver</th>\n",
       "      <td>90</td>\n",
       "      <td>81</td>\n",
       "      <td>88</td>\n",
       "      <td>108</td>\n",
       "      <td>367</td>\n",
       "    </tr>\n",
       "    <tr>\n",
       "      <th>All</th>\n",
       "      <td>247</td>\n",
       "      <td>231</td>\n",
       "      <td>246</td>\n",
       "      <td>276</td>\n",
       "      <td>1000</td>\n",
       "    </tr>\n",
       "  </tbody>\n",
       "</table>\n",
       "</div>"
      ],
      "text/plain": [
       "Time_of_Booking          Afternoon  Evening  Morning  Night   All\n",
       "Customer_Loyalty_Status                                          \n",
       "Gold                            68       76       79     90   313\n",
       "Regular                         89       74       79     78   320\n",
       "Silver                          90       81       88    108   367\n",
       "All                            247      231      246    276  1000"
      ]
     },
     "metadata": {},
     "output_type": "display_data"
    }
   ],
   "source": [
    "tabla_1 = tabla_contingencia(df_modelos, (Categ.lealtad.value, Categ.tiempo_viaje.value))\n",
    "\n",
    "display(tabla_1)"
   ]
  },
  {
   "cell_type": "code",
   "execution_count": 217,
   "metadata": {},
   "outputs": [
    {
     "name": "stdout",
     "output_type": "stream",
     "text": [
      "Chi Cuadrado    : 4.650\n",
      "Valor P         : 0.589\n",
      "Grados libertad : 6\n",
      "ddof            : 5\n"
     ]
    }
   ],
   "source": [
    "mostrar_chi(test_chi_cuadrado(tabla_1))"
   ]
  },
  {
   "cell_type": "markdown",
   "metadata": {},
   "source": [
    "### Lealtad del Cliente vs. Tipo de Vehiculo "
   ]
  },
  {
   "cell_type": "code",
   "execution_count": 214,
   "metadata": {},
   "outputs": [
    {
     "data": {
      "text/html": [
       "<div>\n",
       "<style scoped>\n",
       "    .dataframe tbody tr th:only-of-type {\n",
       "        vertical-align: middle;\n",
       "    }\n",
       "\n",
       "    .dataframe tbody tr th {\n",
       "        vertical-align: top;\n",
       "    }\n",
       "\n",
       "    .dataframe thead th {\n",
       "        text-align: right;\n",
       "    }\n",
       "</style>\n",
       "<table border=\"1\" class=\"dataframe\">\n",
       "  <thead>\n",
       "    <tr style=\"text-align: right;\">\n",
       "      <th>Vehicle_Type</th>\n",
       "      <th>Economy</th>\n",
       "      <th>Premium</th>\n",
       "      <th>All</th>\n",
       "    </tr>\n",
       "    <tr>\n",
       "      <th>Customer_Loyalty_Status</th>\n",
       "      <th></th>\n",
       "      <th></th>\n",
       "      <th></th>\n",
       "    </tr>\n",
       "  </thead>\n",
       "  <tbody>\n",
       "    <tr>\n",
       "      <th>Gold</th>\n",
       "      <td>153</td>\n",
       "      <td>160</td>\n",
       "      <td>313</td>\n",
       "    </tr>\n",
       "    <tr>\n",
       "      <th>Regular</th>\n",
       "      <td>144</td>\n",
       "      <td>176</td>\n",
       "      <td>320</td>\n",
       "    </tr>\n",
       "    <tr>\n",
       "      <th>Silver</th>\n",
       "      <td>181</td>\n",
       "      <td>186</td>\n",
       "      <td>367</td>\n",
       "    </tr>\n",
       "    <tr>\n",
       "      <th>All</th>\n",
       "      <td>478</td>\n",
       "      <td>522</td>\n",
       "      <td>1000</td>\n",
       "    </tr>\n",
       "  </tbody>\n",
       "</table>\n",
       "</div>"
      ],
      "text/plain": [
       "Vehicle_Type             Economy  Premium   All\n",
       "Customer_Loyalty_Status                        \n",
       "Gold                         153      160   313\n",
       "Regular                      144      176   320\n",
       "Silver                       181      186   367\n",
       "All                          478      522  1000"
      ]
     },
     "metadata": {},
     "output_type": "display_data"
    }
   ],
   "source": [
    "tabla_2 = tabla_contingencia(df_modelos, (Categ.lealtad.value, Categ.vehiculo.value))\n",
    "\n",
    "display(tabla_2)"
   ]
  },
  {
   "cell_type": "code",
   "execution_count": 218,
   "metadata": {},
   "outputs": [
    {
     "name": "stdout",
     "output_type": "stream",
     "text": [
      "Chi Cuadrado    : 1.492\n",
      "Valor P         : 0.474\n",
      "Grados libertad : 2\n",
      "ddof            : 3\n"
     ]
    }
   ],
   "source": [
    "mostrar_chi(test_chi_cuadrado(tabla_2))"
   ]
  },
  {
   "cell_type": "markdown",
   "metadata": {},
   "source": [
    "### Hora de Agendar vs. Tipo de Vehiculo"
   ]
  },
  {
   "cell_type": "code",
   "execution_count": 219,
   "metadata": {},
   "outputs": [
    {
     "data": {
      "text/html": [
       "<div>\n",
       "<style scoped>\n",
       "    .dataframe tbody tr th:only-of-type {\n",
       "        vertical-align: middle;\n",
       "    }\n",
       "\n",
       "    .dataframe tbody tr th {\n",
       "        vertical-align: top;\n",
       "    }\n",
       "\n",
       "    .dataframe thead th {\n",
       "        text-align: right;\n",
       "    }\n",
       "</style>\n",
       "<table border=\"1\" class=\"dataframe\">\n",
       "  <thead>\n",
       "    <tr style=\"text-align: right;\">\n",
       "      <th>Vehicle_Type</th>\n",
       "      <th>Economy</th>\n",
       "      <th>Premium</th>\n",
       "      <th>All</th>\n",
       "    </tr>\n",
       "    <tr>\n",
       "      <th>Time_of_Booking</th>\n",
       "      <th></th>\n",
       "      <th></th>\n",
       "      <th></th>\n",
       "    </tr>\n",
       "  </thead>\n",
       "  <tbody>\n",
       "    <tr>\n",
       "      <th>Afternoon</th>\n",
       "      <td>123</td>\n",
       "      <td>124</td>\n",
       "      <td>247</td>\n",
       "    </tr>\n",
       "    <tr>\n",
       "      <th>Evening</th>\n",
       "      <td>98</td>\n",
       "      <td>133</td>\n",
       "      <td>231</td>\n",
       "    </tr>\n",
       "    <tr>\n",
       "      <th>Morning</th>\n",
       "      <td>121</td>\n",
       "      <td>125</td>\n",
       "      <td>246</td>\n",
       "    </tr>\n",
       "    <tr>\n",
       "      <th>Night</th>\n",
       "      <td>136</td>\n",
       "      <td>140</td>\n",
       "      <td>276</td>\n",
       "    </tr>\n",
       "    <tr>\n",
       "      <th>All</th>\n",
       "      <td>478</td>\n",
       "      <td>522</td>\n",
       "      <td>1000</td>\n",
       "    </tr>\n",
       "  </tbody>\n",
       "</table>\n",
       "</div>"
      ],
      "text/plain": [
       "Vehicle_Type     Economy  Premium   All\n",
       "Time_of_Booking                        \n",
       "Afternoon            123      124   247\n",
       "Evening               98      133   231\n",
       "Morning              121      125   246\n",
       "Night                136      140   276\n",
       "All                  478      522  1000"
      ]
     },
     "metadata": {},
     "output_type": "display_data"
    }
   ],
   "source": [
    "tabla_3 = tabla_contingencia(df_modelos, (Categ.tiempo_viaje.value, Categ.vehiculo.value))\n",
    "\n",
    "display(tabla_3)"
   ]
  },
  {
   "cell_type": "code",
   "execution_count": 220,
   "metadata": {},
   "outputs": [
    {
     "name": "stdout",
     "output_type": "stream",
     "text": [
      "Chi Cuadrado    : 3.501\n",
      "Valor P         : 0.321\n",
      "Grados libertad : 3\n",
      "ddof            : 4\n"
     ]
    }
   ],
   "source": [
    "mostrar_chi(test_chi_cuadrado(tabla_3))"
   ]
  },
  {
   "cell_type": "markdown",
   "metadata": {},
   "source": [
    "## 4. Pruebas ANOVA"
   ]
  },
  {
   "cell_type": "markdown",
   "metadata": {},
   "source": [
    "Para poder realizar el analisis de medias entre las diferentes grupos de lealtad y las variables numericas dadas, se agrupó el conjunto de datos con el metodo `groupby` de los dataframes de pandas. Este objeto es el `grupos_lealtad` de la siguiente celda.\n",
    "\n",
    "En los siguientes calculos, se consigue el campo correspondiente a la variable numerica en estudio, se visualizan por medio de un grafico de cajas y bigotes, y se les realiza un prueba de ANOVA de una unica variable, comprobando si existen diferencias significativas entre las variables.\n",
    "\n",
    "Para tres pruebas se tienen las siguientes hipotesis: \n",
    "\n",
    "$$ H_0: \\mu_{gold} = \\mu_{silver} = \\mu_{regular} $$\n",
    "$$ H_1: \\neg (\\mu_{gold} = \\mu_{silver} = \\mu_{regular} ) $$\n",
    "\n",
    "La hipotesis nula indica que que no hay diferencias significativas entre las medias de los grupos, y la hipotesis alternativa indica que puede haber diferencia entre las medias de  todos los grupos, o al menos entre dos de ellos.\n",
    "\n"
   ]
  },
  {
   "cell_type": "code",
   "execution_count": 262,
   "metadata": {},
   "outputs": [],
   "source": [
    "grupos_lealtad = df_modelos.groupby([Categ.lealtad.value])"
   ]
  },
  {
   "cell_type": "markdown",
   "metadata": {},
   "source": [
    "### Puntaje Promedio vs. Lealtad del Cliente"
   ]
  },
  {
   "cell_type": "code",
   "execution_count": 225,
   "metadata": {},
   "outputs": [
    {
     "data": {
      "image/png": "[encoded data removed]",
      "text/plain": [
       "<Figure size 640x480 with 1 Axes>"
      ]
     },
     "metadata": {},
     "output_type": "display_data"
    }
   ],
   "source": [
    "sns.boxplot(data=df_modelos, x=Num.puntaje_promedio.value, y=Categ.lealtad.value, color=\"m\")\n",
    "plt.show()"
   ]
  },
  {
   "cell_type": "code",
   "execution_count": 268,
   "metadata": {},
   "outputs": [
    {
     "data": {
      "text/plain": [
       "Customer_Loyalty_Status\n",
       "Gold       [3.59, 4.14, 4.12, 4.31, 3.81, 4.39, 4.79, 4.6...\n",
       "Regular    [4.31, 3.77, 4.41, 4.69, 4.95, 4.95, 3.97, 3.6...\n",
       "Silver     [4.47, 4.06, 3.99, 3.51, 3.74, 3.85, 4.22, 4.5...\n",
       "Name: Average_Ratings, dtype: object"
      ]
     },
     "metadata": {},
     "output_type": "display_data"
    },
    {
     "data": {
      "text/plain": [
       "F_onewayResult(statistic=2.314323393069779, pvalue=0.09936376656549513)"
      ]
     },
     "metadata": {},
     "output_type": "display_data"
    }
   ],
   "source": [
    "muestras_puntaje = grupos_lealtad[Num.puntaje_promedio.value].apply(np.array)\n",
    "display(muestras_puntaje)\n",
    "resultados = f_oneway(*muestras_puntaje) \n",
    "display(resultados)"
   ]
  },
  {
   "cell_type": "markdown",
   "metadata": {},
   "source": [
    "#### Interpretación Caja de bigotes:"
   ]
  },
  {
   "cell_type": "markdown",
   "metadata": {},
   "source": [
    "Los graficos de caja para los tres grupos se ven similares, y la mediana de los tres se acercan al mismo valor de $4.3$ , \n",
    "siendo el de la categoria de oro (\"Gold\") ligeramente mas bajo que los demas. Esto mostraria que la calidad de los viajes es casi la misma a traves de los diferentes grupos de lealtad. Adicionalmente, no se observan ouliers en ninguno de los grupos, y se observa una distribución similar sin considerar la separación por grupos, juntando el 50% de las calificaciones entre aprox. $3.8$ y $4.6$.\n"
   ]
  },
  {
   "cell_type": "markdown",
   "metadata": {},
   "source": [
    "#### ANOVA"
   ]
  },
  {
   "cell_type": "markdown",
   "metadata": {},
   "source": [
    "el resultado del estadistico valor $P = 0.099$ en este caso es muy ceracano al limite 0.05. Usando estrictamente la prueba, se deberia concluir que no hay evidencia suficiente de significancia estadistica, y se acepta la hipotesis nula. Los tres grupos tendrian sus calificaciones repartidos de forma normal, y aleatoria, y no habria efecto por la clase de lealtad. En otras palabras, la pertenencia a alguno de las clases altas no hace que se favorezca más, ni menos, la calificación del servicio, respecto al grupo de regulares.\n"
   ]
  },
  {
   "cell_type": "markdown",
   "metadata": {},
   "source": [
    "### Numero de Pasajeros vs. Lealtad del Cliente"
   ]
  },
  {
   "cell_type": "code",
   "execution_count": 223,
   "metadata": {},
   "outputs": [
    {
     "data": {
      "image/png": "[encoded data removed]",
      "text/plain": [
       "<Figure size 640x480 with 1 Axes>"
      ]
     },
     "metadata": {},
     "output_type": "display_data"
    }
   ],
   "source": [
    "sns.boxplot(data=df_modelos, x=Num.pasajeros.value, y=Categ.lealtad.value, color=\"c\")\n",
    "plt.show()"
   ]
  },
  {
   "cell_type": "code",
   "execution_count": 269,
   "metadata": {},
   "outputs": [
    {
     "data": {
      "text/plain": [
       "Customer_Loyalty_Status\n",
       "Gold       [62, 60, 24, 33, 48, 72, 75, 39, 35, 28, 25, 6...\n",
       "Regular    [89, 78, 93, 86, 63, 96, 74, 24, 56, 62, 68, 2...\n",
       "Silver     [90, 58, 42, 59, 79, 42, 36, 39, 38, 46, 31, 2...\n",
       "Name: Number_of_Riders, dtype: object"
      ]
     },
     "metadata": {},
     "output_type": "display_data"
    },
    {
     "data": {
      "text/plain": [
       "F_onewayResult(statistic=2.3835091304893763, pvalue=0.09275172134708519)"
      ]
     },
     "metadata": {},
     "output_type": "display_data"
    }
   ],
   "source": [
    "muestras_pasajeros = grupos_lealtad[Num.pasajeros.value].apply(np.array)\n",
    "display(muestras_pasajeros)\n",
    "resultados = f_oneway(*muestras_pasajeros) \n",
    "display(resultados)"
   ]
  },
  {
   "cell_type": "markdown",
   "metadata": {},
   "source": [
    "#### Interpretación Caja de bigotes:"
   ]
  },
  {
   "cell_type": "markdown",
   "metadata": {},
   "source": [
    "En la comparación de ambas variables, Las cajas de bigotes se ven similares, y la mediana de los grupos Oro (\"Gold\") y plata (\"Silver\")  se acercan al mismo valor. La caja del grupo regular (\"Regular\") se desplaza aprox. 5 unidades sobre las demas, teniendo una mediana mas alta. \n",
    "\n",
    "Esto sugiere muestra que hay mas pasajeros en el grupo de regulares, mostrando que la mayoria no sube de la clase de lealtad. La prueba de hipotesis ANOVA mostraria si esto es cierto, o solo se debe al azar."
   ]
  },
  {
   "cell_type": "markdown",
   "metadata": {},
   "source": [
    "#### ANOVA"
   ]
  },
  {
   "cell_type": "markdown",
   "metadata": {},
   "source": []
  },
  {
   "cell_type": "markdown",
   "metadata": {},
   "source": [
    "### Duración del Viaje vs. Lealtad del Cliente"
   ]
  },
  {
   "cell_type": "code",
   "execution_count": 228,
   "metadata": {},
   "outputs": [
    {
     "data": {
      "image/png": "[encoded data removed]",
      "text/plain": [
       "<Figure size 640x480 with 1 Axes>"
      ]
     },
     "metadata": {},
     "output_type": "display_data"
    }
   ],
   "source": [
    "sns.boxplot(data=df_modelos, x=Num.duracion_esperada.value, y=Categ.lealtad.value, color=\"g\")\n",
    "plt.show()"
   ]
  },
  {
   "cell_type": "code",
   "execution_count": 270,
   "metadata": {},
   "outputs": [
    {
     "data": {
      "text/plain": [
       "Customer_Loyalty_Status\n",
       "Gold       [47, 144, 164, 22, 65, 30, 153, 48, 105, 94, 1...\n",
       "Regular    [134, 149, 16, 167, 102, 11, 139, 45, 162, 129...\n",
       "Silver     [90, 43, 76, 128, 128, 128, 83, 140, 54, 15, 8...\n",
       "Name: Expected_Ride_Duration, dtype: object"
      ]
     },
     "metadata": {},
     "output_type": "display_data"
    },
    {
     "data": {
      "text/plain": [
       "F_onewayResult(statistic=0.828108951085767, pvalue=0.4371749223644371)"
      ]
     },
     "metadata": {},
     "output_type": "display_data"
    }
   ],
   "source": [
    "muestras_duracion = grupos_lealtad[Num.duracion_esperada.value].apply(np.array)\n",
    "display(muestras_duracion)\n",
    "resultados = f_oneway(*muestras_duracion) \n",
    "display(resultados)"
   ]
  },
  {
   "cell_type": "markdown",
   "metadata": {},
   "source": [
    "#### Interpretación Caja de bigotes:"
   ]
  },
  {
   "cell_type": "markdown",
   "metadata": {},
   "source": [
    "En la comparación de ambas variables, Las cajas de bigotes se ven similares, y la mediana de los grupos Oro (\"Gold\") y plata (\"Silver\")  se acercan al mismo valor. La caja del grupo regular (\"Regular\") se desplaza aprox. 5 unidades sobre las demas, teniendo una mediana mas alta. \n",
    "\n",
    "Esto sugiere muestra que hay mas pasajeros en el grupo de regulares, mostrando que la mayoria no sube de la clase de lealtad. La prueba de hipotesis ANOVA mostraria si esto es cierto, o solo se debe al azar."
   ]
  },
  {
   "cell_type": "markdown",
   "metadata": {},
   "source": [
    "#### ANOVA"
   ]
  },
  {
   "cell_type": "markdown",
   "metadata": {},
   "source": []
  },
  {
   "cell_type": "markdown",
   "metadata": {},
   "source": [
    "## Conclusiones"
   ]
  },
  {
   "cell_type": "markdown",
   "metadata": {},
   "source": [
    "No se encontraron relaciones significativas en el analisis bidimensional. Esto refleja que diferentes tipos de recolección de datos debe intentarse para poder encontrar relaciones entre los datos."
   ]
  },
  {
   "cell_type": "markdown",
   "metadata": {},
   "source": [
    "## Enlace Sustentación:"
   ]
  },
  {
   "cell_type": "markdown",
   "metadata": {},
   "source": []
  },
  {
   "cell_type": "markdown",
   "metadata": {
    "id": "XNraS_lWFkk_"
   },
   "source": [
    "# Referencias"
   ]
  },
  {
   "cell_type": "markdown",
   "metadata": {
    "id": "Oq6SWYx1FmmS"
   },
   "source": [
    "- Kane, F. (2017). Hands-On Data Science and Python Machine Learning. Packt\n",
    "Publishing. (pp. 183-195).\n",
    "- Raschka, S., & Mirjalili, V. (2017). Python Machine Learning - Second Edition: Vol.\n",
    "2nd ed. Packt Publishing. (pp. 90-103)."
   ]
  },
  {
   "cell_type": "code",
   "execution_count": null,
   "metadata": {},
   "outputs": [],
   "source": []
  }
 ],
 "metadata": {
  "colab": {
   "provenance": []
  },
  "kernelspec": {
   "display_name": "Python 3 (ipykernel)",
   "language": "python",
   "name": "python3"
  },
  "language_info": {
   "codemirror_mode": {
    "name": "ipython",
    "version": 3
   },
   "file_extension": ".py",
   "mimetype": "text/x-python",
   "name": "python",
   "nbconvert_exporter": "python",
   "pygments_lexer": "ipython3",
   "version": "3.11.9"
  }
 },
 "nbformat": 4,
 "nbformat_minor": 4
}
